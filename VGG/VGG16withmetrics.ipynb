{
  "nbformat": 4,
  "nbformat_minor": 0,
  "metadata": {
    "colab": {
      "name": "VGG16withmetrics.ipynb",
      "provenance": [],
      "authorship_tag": "ABX9TyO1z+h7OmCuYhCziVRaml/9",
      "include_colab_link": true
    },
    "kernelspec": {
      "name": "python3",
      "display_name": "Python 3"
    }
  },
  "cells": [
    {
      "cell_type": "markdown",
      "metadata": {
        "id": "view-in-github",
        "colab_type": "text"
      },
      "source": [
        "<a href=\"https://colab.research.google.com/github/zahrael97/COVID-19-detection-using-deep-Learning/blob/master/VGG/VGG16withmetrics.ipynb\" target=\"_parent\"><img src=\"https://colab.research.google.com/assets/colab-badge.svg\" alt=\"Open In Colab\"/></a>"
      ]
    },
    {
      "cell_type": "code",
      "metadata": {
        "id": "X2_Aa1KKMIBq",
        "colab_type": "code",
        "colab": {
          "base_uri": "https://localhost:8080/",
          "height": 1000
        },
        "outputId": "46059900-de5b-400b-fcb4-f73b7290789a"
      },
      "source": [
        "from keras.layers import Input, Lambda, Dense, Flatten\n",
        "from keras.models import Model\n",
        "from keras.applications.vgg16 import VGG16\n",
        "from keras.applications.vgg16 import preprocess_input\n",
        "from keras.preprocessing import image\n",
        "from keras.preprocessing.image import ImageDataGenerator\n",
        "from keras.models import Sequential\n",
        "import numpy as np\n",
        "from glob import glob\n",
        "import matplotlib.pyplot as plt\n",
        "\n",
        "# re-size all the images to this\n",
        "IMAGE_SIZE = [224, 224]\n",
        "\n",
        "train_path = '/content/drive/My Drive/Dataset_Zahra/train'\n",
        "valid_path = '/content/drive/My Drive/Dataset_Zahra/test'\n",
        "\n",
        "# add preprocessing layer to the front of VGG\n",
        "vgg = VGG16(input_shape=IMAGE_SIZE + [3], weights='imagenet', include_top=False)\n",
        "\n",
        "# don't train existing weights\n",
        "for layer in vgg.layers:\n",
        "  layer.trainable = False\n",
        "  \n",
        "\n",
        "  \n",
        "  # useful for getting number of classes\n",
        "folders = glob('/content/drive/My Drive/Dataset_Zahra/train/*')\n",
        "  \n",
        "\n",
        "# our layers - you can add more if you want\n",
        "x = Flatten()(vgg.output)\n",
        "# x = Dense(1000, activation='relu')(x)\n",
        "prediction = Dense(len(folders), activation='softmax')(x)\n",
        "\n",
        "# create a model object\n",
        "model = Model(inputs=vgg.input, outputs=prediction)\n",
        "\n",
        "# view the structure of the model\n",
        "model.summary()\n",
        "\n",
        "# tell the model what cost and optimization method to use\n",
        "model.compile(\n",
        "  loss='categorical_crossentropy',\n",
        "  optimizer='adam',\n",
        "  metrics=['accuracy']\n",
        ")\n",
        "\n",
        "\n",
        "from keras.preprocessing.image import ImageDataGenerator\n",
        "\n",
        "train_datagen = ImageDataGenerator(rescale = 1./255,\n",
        "                                   shear_range = 0.2,\n",
        "                                   zoom_range = 0.2,\n",
        "                                   horizontal_flip = True)\n",
        "\n",
        "test_datagen = ImageDataGenerator(rescale = 1./255)\n",
        "\n",
        "training_set = train_datagen.flow_from_directory('/content/drive/My Drive/Dataset_Zahra/train',\n",
        "                                                 target_size = (224, 224),\n",
        "                                                 batch_size = 32,\n",
        "                                                 class_mode = 'categorical')\n",
        "\n",
        "test_set = test_datagen.flow_from_directory('/content/drive/My Drive/Dataset_Zahra/test',\n",
        "                                            target_size = (224, 224),\n",
        "                                            batch_size = 32,\n",
        "                                            class_mode = 'categorical')\n",
        "\n",
        "'''r=model.fit_generator(training_set,\n",
        "                         samples_per_epoch = 8000,\n",
        "                         nb_epoch = 5,\n",
        "                         validation_data = test_set,\n",
        "                         nb_val_samples = 2000)'''\n",
        "\n",
        "# fit the model\n",
        "r = model.fit_generator(\n",
        "  training_set,\n",
        "  validation_data=test_set,\n",
        "  epochs=15,\n",
        "  steps_per_epoch=len(training_set),\n",
        "  validation_steps=len(test_set)\n",
        ")\n",
        "# loss\n",
        "plt.plot(r.history['loss'], label='train loss')\n",
        "plt.plot(r.history['val_loss'], label='val loss')\n",
        "plt.legend()\n",
        "plt.show()\n",
        "plt.savefig('LossVal_loss')\n",
        "\n",
        "# accuracies\n",
        "plt.plot(r.history['accuracy'], label='train accuracy')\n",
        "plt.plot(r.history['val_accuracy'], label='val accuracy')\n",
        "plt.legend()\n",
        "plt.show()\n",
        "plt.savefig('AccVal_accuracy')\n",
        "\n",
        "import tensorflow as tf\n",
        "\n",
        "from keras.models import load_model\n",
        "\n",
        "model.save('facefeatures_new_model.h5')"
      ],
      "execution_count": 18,
      "outputs": [
        {
          "output_type": "stream",
          "text": [
            "Model: \"model_8\"\n",
            "_________________________________________________________________\n",
            "Layer (type)                 Output Shape              Param #   \n",
            "=================================================================\n",
            "input_8 (InputLayer)         (None, 224, 224, 3)       0         \n",
            "_________________________________________________________________\n",
            "block1_conv1 (Conv2D)        (None, 224, 224, 64)      1792      \n",
            "_________________________________________________________________\n",
            "block1_conv2 (Conv2D)        (None, 224, 224, 64)      36928     \n",
            "_________________________________________________________________\n",
            "block1_pool (MaxPooling2D)   (None, 112, 112, 64)      0         \n",
            "_________________________________________________________________\n",
            "block2_conv1 (Conv2D)        (None, 112, 112, 128)     73856     \n",
            "_________________________________________________________________\n",
            "block2_conv2 (Conv2D)        (None, 112, 112, 128)     147584    \n",
            "_________________________________________________________________\n",
            "block2_pool (MaxPooling2D)   (None, 56, 56, 128)       0         \n",
            "_________________________________________________________________\n",
            "block3_conv1 (Conv2D)        (None, 56, 56, 256)       295168    \n",
            "_________________________________________________________________\n",
            "block3_conv2 (Conv2D)        (None, 56, 56, 256)       590080    \n",
            "_________________________________________________________________\n",
            "block3_conv3 (Conv2D)        (None, 56, 56, 256)       590080    \n",
            "_________________________________________________________________\n",
            "block3_pool (MaxPooling2D)   (None, 28, 28, 256)       0         \n",
            "_________________________________________________________________\n",
            "block4_conv1 (Conv2D)        (None, 28, 28, 512)       1180160   \n",
            "_________________________________________________________________\n",
            "block4_conv2 (Conv2D)        (None, 28, 28, 512)       2359808   \n",
            "_________________________________________________________________\n",
            "block4_conv3 (Conv2D)        (None, 28, 28, 512)       2359808   \n",
            "_________________________________________________________________\n",
            "block4_pool (MaxPooling2D)   (None, 14, 14, 512)       0         \n",
            "_________________________________________________________________\n",
            "block5_conv1 (Conv2D)        (None, 14, 14, 512)       2359808   \n",
            "_________________________________________________________________\n",
            "block5_conv2 (Conv2D)        (None, 14, 14, 512)       2359808   \n",
            "_________________________________________________________________\n",
            "block5_conv3 (Conv2D)        (None, 14, 14, 512)       2359808   \n",
            "_________________________________________________________________\n",
            "block5_pool (MaxPooling2D)   (None, 7, 7, 512)         0         \n",
            "_________________________________________________________________\n",
            "flatten_8 (Flatten)          (None, 25088)             0         \n",
            "_________________________________________________________________\n",
            "dense_8 (Dense)              (None, 2)                 50178     \n",
            "=================================================================\n",
            "Total params: 14,764,866\n",
            "Trainable params: 50,178\n",
            "Non-trainable params: 14,714,688\n",
            "_________________________________________________________________\n",
            "Found 312 images belonging to 2 classes.\n",
            "Found 122 images belonging to 2 classes.\n",
            "Epoch 1/15\n",
            "10/10 [==============================] - 247s 25s/step - loss: 0.5122 - accuracy: 0.7788 - val_loss: 0.1800 - val_accuracy: 0.9098\n",
            "Epoch 2/15\n",
            "10/10 [==============================] - 227s 23s/step - loss: 0.1309 - accuracy: 0.9583 - val_loss: 0.0036 - val_accuracy: 0.9836\n",
            "Epoch 3/15\n",
            "10/10 [==============================] - 232s 23s/step - loss: 0.0365 - accuracy: 0.9840 - val_loss: 0.0351 - val_accuracy: 0.9918\n",
            "Epoch 4/15\n",
            "10/10 [==============================] - 227s 23s/step - loss: 0.0184 - accuracy: 0.9968 - val_loss: 0.0071 - val_accuracy: 0.9754\n",
            "Epoch 5/15\n",
            "10/10 [==============================] - 227s 23s/step - loss: 0.0133 - accuracy: 0.9936 - val_loss: 0.0030 - val_accuracy: 0.9754\n",
            "Epoch 6/15\n",
            "10/10 [==============================] - 230s 23s/step - loss: 0.0120 - accuracy: 0.9968 - val_loss: 0.0362 - val_accuracy: 0.9836\n",
            "Epoch 7/15\n",
            "10/10 [==============================] - 228s 23s/step - loss: 0.0079 - accuracy: 1.0000 - val_loss: 4.5165e-04 - val_accuracy: 0.9836\n",
            "Epoch 8/15\n",
            "10/10 [==============================] - 227s 23s/step - loss: 0.0086 - accuracy: 1.0000 - val_loss: 0.0551 - val_accuracy: 0.9836\n",
            "Epoch 9/15\n",
            "10/10 [==============================] - 230s 23s/step - loss: 0.0089 - accuracy: 1.0000 - val_loss: 0.0378 - val_accuracy: 0.9836\n",
            "Epoch 10/15\n",
            "10/10 [==============================] - 227s 23s/step - loss: 0.0090 - accuracy: 1.0000 - val_loss: 0.1076 - val_accuracy: 0.9836\n",
            "Epoch 11/15\n",
            "10/10 [==============================] - 230s 23s/step - loss: 0.0082 - accuracy: 1.0000 - val_loss: 0.0031 - val_accuracy: 0.9918\n",
            "Epoch 12/15\n",
            "10/10 [==============================] - 227s 23s/step - loss: 0.0068 - accuracy: 1.0000 - val_loss: 0.0226 - val_accuracy: 0.9918\n",
            "Epoch 13/15\n",
            "10/10 [==============================] - 227s 23s/step - loss: 0.0064 - accuracy: 1.0000 - val_loss: 0.0591 - val_accuracy: 0.9836\n",
            "Epoch 14/15\n",
            "10/10 [==============================] - 231s 23s/step - loss: 0.0058 - accuracy: 1.0000 - val_loss: 0.0029 - val_accuracy: 0.9836\n",
            "Epoch 15/15\n",
            "10/10 [==============================] - 228s 23s/step - loss: 0.0061 - accuracy: 1.0000 - val_loss: 0.0014 - val_accuracy: 0.9918\n"
          ],
          "name": "stdout"
        },
        {
          "output_type": "display_data",
          "data": {
            "image/png": "[encoded data removed]",
            "text/plain": [
              "<Figure size 432x288 with 1 Axes>"
            ]
          },
          "metadata": {
            "tags": [],
            "needs_background": "light"
          }
        },
        {
          "output_type": "display_data",
          "data": {
            "image/png": "[encoded data removed]",
            "text/plain": [
              "<Figure size 432x288 with 1 Axes>"
            ]
          },
          "metadata": {
            "tags": [],
            "needs_background": "light"
          }
        },
        {
          "output_type": "display_data",
          "data": {
            "text/plain": [
              "<Figure size 432x288 with 0 Axes>"
            ]
          },
          "metadata": {
            "tags": []
          }
        }
      ]
    },
    {
      "cell_type": "code",
      "metadata": {
        "id": "qyIibgCMO6YE",
        "colab_type": "code",
        "colab": {
          "base_uri": "https://localhost:8080/",
          "height": 136
        },
        "outputId": "a5d27713-dd4c-451d-9483-76fe5308f1d3"
      },
      "source": [
        "# evaluate the model\n",
        "from sklearn.metrics import accuracy_score,precision_score,recall_score,f1_score,confusion_matrix\n",
        "y_true = test_set.classes\n",
        "predictions = model.predict_generator(test_set)\n",
        "predicted_classes = np.argmax(predictions,axis=1)\n",
        "\n",
        "def scores(y_true,y_pred):\n",
        "  accuracy = accuracy_score(y_true,y_pred)\n",
        "  precision = precision_score(y_true,y_pred,average='macro')\n",
        "  recall = recall_score(y_true,y_pred,average='macro')\n",
        "  f1 = f1_score(y_true,y_pred,average='macro')\n",
        "  confusionmatrix = confusion_matrix(y_true, y_pred)\n",
        "  print(\"Accuracy:  {}\".format(accuracy))\n",
        "  print(\"Precision: {}\".format(precision))\n",
        "  print(\"Recall:    {}\".format(recall))\n",
        "  print(\"F1:        {}\".format(f1))\n",
        "  print(\"Confusion matrix:\\n{}\".format(confusionmatrix))\n",
        "\n",
        "scores(y_true,predicted_classes)"
      ],
      "execution_count": 19,
      "outputs": [
        {
          "output_type": "stream",
          "text": [
            "Accuracy:  0.5491803278688525\n",
            "Precision: 0.548964218455744\n",
            "Recall:    0.5489247311827957\n",
            "F1:        0.54890756302521\n",
            "Confusion matrix:\n",
            "[[32 28]\n",
            " [27 35]]\n"
          ],
          "name": "stdout"
        }
      ]
    },
    {
      "cell_type": "code",
      "metadata": {
        "id": "36aq420radwz",
        "colab_type": "code",
        "colab": {
          "base_uri": "https://localhost:8080/",
          "height": 459
        },
        "outputId": "19af7634-5b63-4ca6-f5d8-82e88c5d8b15"
      },
      "source": [
        "y_pred = model.predict_generator(test_set, steps=len(test_set), verbose=1)\n",
        "y_pred = y_pred.argmax(axis=-1)\n",
        "y_true = test_set.classes\n",
        "from sklearn.metrics import precision_score, recall_score, f1_score, roc_auc_score, classification_report, confusion_matrix\n",
        "precision = precision_score(y_true, y_pred) \n",
        "recall = recall_score(y_true, y_pred) \n",
        "f1 = f1_score(y_true, y_pred) \n",
        "confusion = confusion_matrix(y_true, y_pred, labels=None, sample_weight=None, normalize=None)\n",
        "print(\"-\"*70)\n",
        "print(\"Report\")\n",
        "print(\"-\"*70)\n",
        "print(\"%s%.2f%s\"% (\"Precision     : \", precision*100, \"%\"))\n",
        "print(\"%s%.2f%s\"% (\"Recall        : \", recall*100,    \"%\"))\n",
        "print(\"%s%.2f%s\"% (\"F1-Score      : \", f1*100,        \"%\"))\n",
        "print(\"-\"*70)\n",
        "print(\"\\n\\n\")\n",
        "\n",
        "cls_report_print = classification_report(y_true, y_pred, target_names=['covid', 'Normal'])\n",
        "\n",
        "cls_report = classification_report(y_true, y_pred, target_names=['covid', 'Normal'], output_dict=True)\n",
        "\n",
        "print(\"-\"*70)\n",
        "print(\"covid Prediction\")\n",
        "print(\"-\"*70)\n",
        "print(cls_report_print)\n",
        "print(\"-\"*70)\n",
        "\n",
        "print(\"confusion matrix    :\" , confusion)"
      ],
      "execution_count": 22,
      "outputs": [
        {
          "output_type": "stream",
          "text": [
            "4/4 [==============================] - 66s 17s/step\n",
            "----------------------------------------------------------------------\n",
            "Report\n",
            "----------------------------------------------------------------------\n",
            "Precision     : 49.21%\n",
            "Recall        : 50.00%\n",
            "F1-Score      : 49.60%\n",
            "----------------------------------------------------------------------\n",
            "\n",
            "\n",
            "\n",
            "----------------------------------------------------------------------\n",
            "covid Prediction\n",
            "----------------------------------------------------------------------\n",
            "              precision    recall  f1-score   support\n",
            "\n",
            "       covid       0.47      0.47      0.47        60\n",
            "      Normal       0.49      0.50      0.50        62\n",
            "\n",
            "    accuracy                           0.48       122\n",
            "   macro avg       0.48      0.48      0.48       122\n",
            "weighted avg       0.48      0.48      0.48       122\n",
            "\n",
            "----------------------------------------------------------------------\n",
            "confusion matrix    : [[28 32]\n",
            " [31 31]]\n"
          ],
          "name": "stdout"
        }
      ]
    }
  ]
}