{
  "nbformat": 4,
  "nbformat_minor": 0,
  "metadata": {
    "colab": {
      "name": "VGG16.ipynb",
      "provenance": [],
      "authorship_tag": "ABX9TyO4m/xofRaVhxYbfJoblokr",
      "include_colab_link": true
    },
    "kernelspec": {
      "name": "python3",
      "display_name": "Python 3"
    },
    "accelerator": "GPU"
  },
  "cells": [
    {
      "cell_type": "markdown",
      "metadata": {
        "id": "view-in-github",
        "colab_type": "text"
      },
      "source": [
        "<a href=\"https://colab.research.google.com/github/zahrael97/COVID-19-detection-using-deep-Learning/blob/master/VGG/VGG19.ipynb\" target=\"_parent\"><img src=\"https://colab.research.google.com/assets/colab-badge.svg\" alt=\"Open In Colab\"/></a>"
      ]
    },
    {
      "cell_type": "code",
      "metadata": {
        "id": "bsYd1yGlqyi7",
        "colab_type": "code",
        "colab": {
          "base_uri": "https://localhost:8080/",
          "height": 34
        },
        "outputId": "b0516c35-0333-4f5d-b771-439bab6acaa5"
      },
      "source": [
        "from keras.layers import Input, Lambda, Dense, Flatten\n",
        "from keras.models import Model\n",
        "from keras.applications.vgg19 import VGG19\n",
        "from keras.applications.vgg19 import preprocess_input\n",
        "from keras.preprocessing import image\n",
        "from keras.preprocessing.image import ImageDataGenerator\n",
        "from keras.models import Sequential\n",
        "import numpy as np\n",
        "from glob import glob\n",
        "import matplotlib.pyplot as plt"
      ],
      "execution_count": 2,
      "outputs": [
        {
          "output_type": "stream",
          "text": [
            "Using TensorFlow backend.\n"
          ],
          "name": "stderr"
        }
      ]
    },
    {
      "cell_type": "code",
      "metadata": {
        "id": "X_FZC2nJq0DF",
        "colab_type": "code",
        "colab": {}
      },
      "source": [
        "# resize all the images to this\n",
        "IMAGE_SIZE = [224,224]\n",
        "train_path = \"/content/drive/My Drive/Dataset_Zahra/train\"\n",
        "test_path = \"/content/drive/My Drive/Dataset_Zahra/test\""
      ],
      "execution_count": 0,
      "outputs": []
    },
    {
      "cell_type": "code",
      "metadata": {
        "id": "zGPtCr7OrPzJ",
        "colab_type": "code",
        "colab": {
          "base_uri": "https://localhost:8080/",
          "height": 71
        },
        "outputId": "a709183f-9f03-4392-c78d-aaf6743d1bec"
      },
      "source": [
        "# add preprocessing layer to the front of VGG\n",
        "vgg = VGG19(input_shape=IMAGE_SIZE + [3], weights='imagenet', include_top=False)\n",
        "\n",
        "# don't train existing weights\n",
        "for layer in vgg.layers:\n",
        "  layer.trainable = False"
      ],
      "execution_count": 4,
      "outputs": [
        {
          "output_type": "stream",
          "text": [
            "Downloading data from https://github.com/fchollet/deep-learning-models/releases/download/v0.1/vgg19_weights_tf_dim_ordering_tf_kernels_notop.h5\n",
            "80142336/80134624 [==============================] - 6s 0us/step\n"
          ],
          "name": "stdout"
        }
      ]
    },
    {
      "cell_type": "code",
      "metadata": {
        "id": "EZ8rR-R7rT6q",
        "colab_type": "code",
        "colab": {}
      },
      "source": [
        "  # useful for getting number of classes\n",
        "folders = glob('/content/drive/My Drive/Dataset_Zahra/train/*')"
      ],
      "execution_count": 0,
      "outputs": []
    },
    {
      "cell_type": "code",
      "metadata": {
        "id": "edmzrZK6rivl",
        "colab_type": "code",
        "colab": {}
      },
      "source": [
        "# our layers - you can add more if you want\n",
        "x = Flatten()(vgg.output)\n",
        "# x = Dense(1000, activation='relu')(x)\n",
        "prediction = Dense(len(folders), activation='softmax')(x)"
      ],
      "execution_count": 0,
      "outputs": []
    },
    {
      "cell_type": "code",
      "metadata": {
        "id": "I-_xnGNLrk4j",
        "colab_type": "code",
        "outputId": "57238f46-3b53-4b84-c4bb-1d5ba612917d",
        "colab": {
          "base_uri": "https://localhost:8080/",
          "height": 969
        }
      },
      "source": [
        "# create a model object\n",
        "model = Model(inputs=vgg.input, outputs=prediction)\n",
        "\n",
        "# view the structure of the model\n",
        "model.summary()"
      ],
      "execution_count": 7,
      "outputs": [
        {
          "output_type": "stream",
          "text": [
            "Model: \"model_1\"\n",
            "_________________________________________________________________\n",
            "Layer (type)                 Output Shape              Param #   \n",
            "=================================================================\n",
            "input_1 (InputLayer)         (None, 224, 224, 3)       0         \n",
            "_________________________________________________________________\n",
            "block1_conv1 (Conv2D)        (None, 224, 224, 64)      1792      \n",
            "_________________________________________________________________\n",
            "block1_conv2 (Conv2D)        (None, 224, 224, 64)      36928     \n",
            "_________________________________________________________________\n",
            "block1_pool (MaxPooling2D)   (None, 112, 112, 64)      0         \n",
            "_________________________________________________________________\n",
            "block2_conv1 (Conv2D)        (None, 112, 112, 128)     73856     \n",
            "_________________________________________________________________\n",
            "block2_conv2 (Conv2D)        (None, 112, 112, 128)     147584    \n",
            "_________________________________________________________________\n",
            "block2_pool (MaxPooling2D)   (None, 56, 56, 128)       0         \n",
            "_________________________________________________________________\n",
            "block3_conv1 (Conv2D)        (None, 56, 56, 256)       295168    \n",
            "_________________________________________________________________\n",
            "block3_conv2 (Conv2D)        (None, 56, 56, 256)       590080    \n",
            "_________________________________________________________________\n",
            "block3_conv3 (Conv2D)        (None, 56, 56, 256)       590080    \n",
            "_________________________________________________________________\n",
            "block3_conv4 (Conv2D)        (None, 56, 56, 256)       590080    \n",
            "_________________________________________________________________\n",
            "block3_pool (MaxPooling2D)   (None, 28, 28, 256)       0         \n",
            "_________________________________________________________________\n",
            "block4_conv1 (Conv2D)        (None, 28, 28, 512)       1180160   \n",
            "_________________________________________________________________\n",
            "block4_conv2 (Conv2D)        (None, 28, 28, 512)       2359808   \n",
            "_________________________________________________________________\n",
            "block4_conv3 (Conv2D)        (None, 28, 28, 512)       2359808   \n",
            "_________________________________________________________________\n",
            "block4_conv4 (Conv2D)        (None, 28, 28, 512)       2359808   \n",
            "_________________________________________________________________\n",
            "block4_pool (MaxPooling2D)   (None, 14, 14, 512)       0         \n",
            "_________________________________________________________________\n",
            "block5_conv1 (Conv2D)        (None, 14, 14, 512)       2359808   \n",
            "_________________________________________________________________\n",
            "block5_conv2 (Conv2D)        (None, 14, 14, 512)       2359808   \n",
            "_________________________________________________________________\n",
            "block5_conv3 (Conv2D)        (None, 14, 14, 512)       2359808   \n",
            "_________________________________________________________________\n",
            "block5_conv4 (Conv2D)        (None, 14, 14, 512)       2359808   \n",
            "_________________________________________________________________\n",
            "block5_pool (MaxPooling2D)   (None, 7, 7, 512)         0         \n",
            "_________________________________________________________________\n",
            "flatten_1 (Flatten)          (None, 25088)             0         \n",
            "_________________________________________________________________\n",
            "dense_1 (Dense)              (None, 2)                 50178     \n",
            "=================================================================\n",
            "Total params: 20,074,562\n",
            "Trainable params: 50,178\n",
            "Non-trainable params: 20,024,384\n",
            "_________________________________________________________________\n"
          ],
          "name": "stdout"
        }
      ]
    },
    {
      "cell_type": "code",
      "metadata": {
        "id": "vukN7S8SrnuY",
        "colab_type": "code",
        "colab": {}
      },
      "source": [
        "# tell the model what cost and optimization method to use\n",
        "model.compile(\n",
        "  loss='categorical_crossentropy',\n",
        "  optimizer='adam',\n",
        "  metrics=['accuracy']\n",
        ")\n"
      ],
      "execution_count": 0,
      "outputs": []
    },
    {
      "cell_type": "code",
      "metadata": {
        "id": "RYB8D9m6rs_x",
        "colab_type": "code",
        "outputId": "8d4c050f-0014-4e61-c5a1-1bd2e06b5557",
        "colab": {
          "base_uri": "https://localhost:8080/",
          "height": 51
        }
      },
      "source": [
        "from keras.preprocessing.image import ImageDataGenerator\n",
        "\n",
        "train_datagen = ImageDataGenerator(rescale = 1./255,\n",
        "                                   shear_range = 0.2,\n",
        "                                   zoom_range = 0.2,\n",
        "                                   horizontal_flip = True)\n",
        "\n",
        "test_datagen = ImageDataGenerator(rescale = 1./255)\n",
        "\n",
        "training_set = train_datagen.flow_from_directory('/content/drive/My Drive/Dataset_Zahra/train',\n",
        "                                                 target_size = (224, 224),\n",
        "                                                 batch_size = 32,\n",
        "                                                 class_mode = 'categorical')\n",
        "\n",
        "test_set = test_datagen.flow_from_directory('/content/drive/My Drive/Dataset_Zahra/test',\n",
        "                                            target_size = (224, 224),\n",
        "                                            batch_size = 32,\n",
        "                                            class_mode = 'categorical')"
      ],
      "execution_count": 9,
      "outputs": [
        {
          "output_type": "stream",
          "text": [
            "Found 312 images belonging to 2 classes.\n",
            "Found 122 images belonging to 2 classes.\n"
          ],
          "name": "stdout"
        }
      ]
    },
    {
      "cell_type": "code",
      "metadata": {
        "id": "_cL5X-1RnNHG",
        "colab_type": "code",
        "outputId": "85414931-7435-4c94-e97f-58956900a7eb",
        "colab": {
          "base_uri": "https://localhost:8080/",
          "height": 54
        }
      },
      "source": [
        "from google.colab import drive\n",
        "drive.mount('/content/drive')"
      ],
      "execution_count": 10,
      "outputs": [
        {
          "output_type": "stream",
          "text": [
            "Drive already mounted at /content/drive; to attempt to forcibly remount, call drive.mount(\"/content/drive\", force_remount=True).\n"
          ],
          "name": "stdout"
        }
      ]
    },
    {
      "cell_type": "code",
      "metadata": {
        "id": "AaCoIDTksR7q",
        "colab_type": "code",
        "outputId": "20b6dc2e-b489-410b-f607-7c2e6a180b77",
        "colab": {
          "base_uri": "https://localhost:8080/",
          "height": 1000
        }
      },
      "source": [
        "# fit the model\n",
        "r = model.fit_generator(\n",
        "  training_set,\n",
        "  validation_data=test_set,\n",
        "  epochs=30,\n",
        "  steps_per_epoch=len(training_set),\n",
        "  validation_steps=len(test_set)\n",
        ")"
      ],
      "execution_count": 11,
      "outputs": [
        {
          "output_type": "stream",
          "text": [
            "Epoch 1/30\n",
            "10/10 [==============================] - 231s 23s/step - loss: 0.4494 - accuracy: 0.7853 - val_loss: 0.0575 - val_accuracy: 0.9754\n",
            "Epoch 2/30\n",
            "10/10 [==============================] - 16s 2s/step - loss: 0.0697 - accuracy: 0.9840 - val_loss: 0.0036 - val_accuracy: 0.9836\n",
            "Epoch 3/30\n",
            "10/10 [==============================] - 17s 2s/step - loss: 0.0634 - accuracy: 0.9808 - val_loss: 0.0115 - val_accuracy: 0.9836\n",
            "Epoch 4/30\n",
            "10/10 [==============================] - 17s 2s/step - loss: 0.0816 - accuracy: 0.9712 - val_loss: 0.0868 - val_accuracy: 0.9836\n",
            "Epoch 5/30\n",
            "10/10 [==============================] - 17s 2s/step - loss: 0.0301 - accuracy: 0.9936 - val_loss: 0.0328 - val_accuracy: 1.0000\n",
            "Epoch 6/30\n",
            "10/10 [==============================] - 17s 2s/step - loss: 0.0167 - accuracy: 0.9936 - val_loss: 0.0039 - val_accuracy: 0.9836\n",
            "Epoch 7/30\n",
            "10/10 [==============================] - 17s 2s/step - loss: 0.0222 - accuracy: 0.9904 - val_loss: 0.0222 - val_accuracy: 1.0000\n",
            "Epoch 8/30\n",
            "10/10 [==============================] - 17s 2s/step - loss: 0.0136 - accuracy: 0.9968 - val_loss: 0.0052 - val_accuracy: 1.0000\n",
            "Epoch 9/30\n",
            "10/10 [==============================] - 17s 2s/step - loss: 0.0098 - accuracy: 0.9936 - val_loss: 0.0286 - val_accuracy: 1.0000\n",
            "Epoch 10/30\n",
            "10/10 [==============================] - 17s 2s/step - loss: 0.0080 - accuracy: 1.0000 - val_loss: 0.0143 - val_accuracy: 1.0000\n",
            "Epoch 11/30\n",
            "10/10 [==============================] - 17s 2s/step - loss: 0.0055 - accuracy: 1.0000 - val_loss: 0.0047 - val_accuracy: 1.0000\n",
            "Epoch 12/30\n",
            "10/10 [==============================] - 17s 2s/step - loss: 0.0060 - accuracy: 1.0000 - val_loss: 0.0262 - val_accuracy: 1.0000\n",
            "Epoch 13/30\n",
            "10/10 [==============================] - 17s 2s/step - loss: 0.0050 - accuracy: 1.0000 - val_loss: 9.2663e-04 - val_accuracy: 1.0000\n",
            "Epoch 14/30\n",
            "10/10 [==============================] - 17s 2s/step - loss: 0.0150 - accuracy: 0.9968 - val_loss: 0.0066 - val_accuracy: 1.0000\n",
            "Epoch 15/30\n",
            "10/10 [==============================] - 17s 2s/step - loss: 0.0098 - accuracy: 0.9936 - val_loss: 0.0272 - val_accuracy: 0.9918\n",
            "Epoch 16/30\n",
            "10/10 [==============================] - 17s 2s/step - loss: 0.0118 - accuracy: 0.9936 - val_loss: 0.0681 - val_accuracy: 0.9918\n",
            "Epoch 17/30\n",
            "10/10 [==============================] - 17s 2s/step - loss: 0.0057 - accuracy: 1.0000 - val_loss: 0.0048 - val_accuracy: 0.9918\n",
            "Epoch 18/30\n",
            "10/10 [==============================] - 17s 2s/step - loss: 0.0072 - accuracy: 0.9968 - val_loss: 0.0034 - val_accuracy: 1.0000\n",
            "Epoch 19/30\n",
            "10/10 [==============================] - 17s 2s/step - loss: 0.0088 - accuracy: 1.0000 - val_loss: 0.0114 - val_accuracy: 0.9918\n",
            "Epoch 20/30\n",
            "10/10 [==============================] - 17s 2s/step - loss: 0.0100 - accuracy: 0.9936 - val_loss: 0.0328 - val_accuracy: 0.9918\n",
            "Epoch 21/30\n",
            "10/10 [==============================] - 17s 2s/step - loss: 0.0042 - accuracy: 1.0000 - val_loss: 0.0158 - val_accuracy: 1.0000\n",
            "Epoch 22/30\n",
            "10/10 [==============================] - 17s 2s/step - loss: 0.0054 - accuracy: 1.0000 - val_loss: 0.0135 - val_accuracy: 0.9918\n",
            "Epoch 23/30\n",
            "10/10 [==============================] - 17s 2s/step - loss: 0.0047 - accuracy: 1.0000 - val_loss: 0.0014 - val_accuracy: 1.0000\n",
            "Epoch 24/30\n",
            "10/10 [==============================] - 17s 2s/step - loss: 0.0039 - accuracy: 1.0000 - val_loss: 4.6989e-04 - val_accuracy: 0.9918\n",
            "Epoch 25/30\n",
            "10/10 [==============================] - 17s 2s/step - loss: 0.0043 - accuracy: 1.0000 - val_loss: 0.0031 - val_accuracy: 0.9918\n",
            "Epoch 26/30\n",
            "10/10 [==============================] - 17s 2s/step - loss: 0.0038 - accuracy: 1.0000 - val_loss: 0.0133 - val_accuracy: 1.0000\n",
            "Epoch 27/30\n",
            "10/10 [==============================] - 17s 2s/step - loss: 0.0036 - accuracy: 1.0000 - val_loss: 0.0204 - val_accuracy: 1.0000\n",
            "Epoch 28/30\n",
            "10/10 [==============================] - 17s 2s/step - loss: 0.0020 - accuracy: 1.0000 - val_loss: 0.0186 - val_accuracy: 1.0000\n",
            "Epoch 29/30\n",
            "10/10 [==============================] - 17s 2s/step - loss: 0.0037 - accuracy: 1.0000 - val_loss: 0.0062 - val_accuracy: 1.0000\n",
            "Epoch 30/30\n",
            "10/10 [==============================] - 17s 2s/step - loss: 0.0026 - accuracy: 1.0000 - val_loss: 0.0208 - val_accuracy: 1.0000\n"
          ],
          "name": "stdout"
        }
      ]
    },
    {
      "cell_type": "code",
      "metadata": {
        "id": "YRS8HMsNsSp2",
        "colab_type": "code",
        "outputId": "8fb5f9df-3428-4aeb-9013-62808b42223c",
        "colab": {
          "base_uri": "https://localhost:8080/",
          "height": 530
        }
      },
      "source": [
        "# loss\n",
        "plt.plot(r.history['loss'], label='train loss')\n",
        "plt.plot(r.history['val_loss'], label='val loss')\n",
        "plt.legend()\n",
        "plt.show()\n",
        "plt.savefig('LossVal_loss')\n",
        "\n",
        "# accuracies\n",
        "plt.plot(r.history['accuracy'], label='train acc')\n",
        "plt.plot(r.history['val_accuracy'], label='val acc')\n",
        "plt.legend()\n",
        "plt.show()\n",
        "plt.savefig('AccVal_accuracy')\n",
        "\n",
        "import tensorflow as tf\n",
        "\n",
        "from keras.models import load_model\n",
        "\n",
        "model.save('VGG19.h5')"
      ],
      "execution_count": 12,
      "outputs": [
        {
          "output_type": "display_data",
          "data": {
            "image/png": "[encoded data removed]",
            "text/plain": [
              "<Figure size 432x288 with 1 Axes>"
            ]
          },
          "metadata": {
            "tags": [],
            "needs_background": "light"
          }
        },
        {
          "output_type": "display_data",
          "data": {
            "image/png": "[encoded data removed]",
            "text/plain": [
              "<Figure size 432x288 with 1 Axes>"
            ]
          },
          "metadata": {
            "tags": [],
            "needs_background": "light"
          }
        },
        {
          "output_type": "display_data",
          "data": {
            "text/plain": [
              "<Figure size 432x288 with 0 Axes>"
            ]
          },
          "metadata": {
            "tags": []
          }
        }
      ]
    },
    {
      "cell_type": "code",
      "metadata": {
        "id": "5HYQ6KzAB36l",
        "colab_type": "code",
        "colab": {
          "base_uri": "https://localhost:8080/",
          "height": 459
        },
        "outputId": "c89dbee4-5522-47c9-c50e-43dd55fdaeb7"
      },
      "source": [
        "y_pred = model.predict_generator(test_set, steps=len(test_set), verbose=1)\n",
        "y_pred = y_pred.argmax(axis=-1)\n",
        "y_true = test_set.classes\n",
        "from sklearn.metrics import precision_score, recall_score, f1_score, roc_auc_score, classification_report, confusion_matrix\n",
        "precision = precision_score(y_true, y_pred) \n",
        "recall = recall_score(y_true, y_pred) \n",
        "f1 = f1_score(y_true, y_pred) \n",
        "confusion = confusion_matrix(y_true, y_pred, labels=None, sample_weight=None, normalize=None)\n",
        "print(\"-\"*70)\n",
        "print(\"Report\")\n",
        "print(\"-\"*70)\n",
        "print(\"%s%.2f%s\"% (\"Precision     : \", precision*100, \"%\"))\n",
        "print(\"%s%.2f%s\"% (\"Recall        : \", recall*100,    \"%\"))\n",
        "print(\"%s%.2f%s\"% (\"F1-Score      : \", f1*100,        \"%\"))\n",
        "print(\"-\"*70)\n",
        "print(\"\\n\\n\")\n",
        "\n",
        "cls_report_print = classification_report(y_true, y_pred, target_names=['covid', 'Normal'])\n",
        "\n",
        "cls_report = classification_report(y_true, y_pred, target_names=['covid', 'Normal'], output_dict=True)\n",
        "\n",
        "print(\"-\"*70)\n",
        "print(\"covid Prediction\")\n",
        "print(\"-\"*70)\n",
        "print(cls_report_print)\n",
        "print(\"-\"*70)\n",
        "\n",
        "print(\"confusion matrix    :\" , confusion)"
      ],
      "execution_count": 17,
      "outputs": [
        {
          "output_type": "stream",
          "text": [
            "4/4 [==============================] - 4s 984ms/step\n",
            "----------------------------------------------------------------------\n",
            "Report\n",
            "----------------------------------------------------------------------\n",
            "Precision     : 43.55%\n",
            "Recall        : 43.55%\n",
            "F1-Score      : 43.55%\n",
            "----------------------------------------------------------------------\n",
            "\n",
            "\n",
            "\n",
            "----------------------------------------------------------------------\n",
            "covid Prediction\n",
            "----------------------------------------------------------------------\n",
            "              precision    recall  f1-score   support\n",
            "\n",
            "       covid       0.42      0.42      0.42        60\n",
            "      Normal       0.44      0.44      0.44        62\n",
            "\n",
            "    accuracy                           0.43       122\n",
            "   macro avg       0.43      0.43      0.43       122\n",
            "weighted avg       0.43      0.43      0.43       122\n",
            "\n",
            "----------------------------------------------------------------------\n",
            "confusion matrix    : [[25 35]\n",
            " [35 27]]\n"
          ],
          "name": "stdout"
        }
      ]
    }
  ]
}