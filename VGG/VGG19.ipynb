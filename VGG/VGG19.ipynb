{
  "nbformat": 4,
  "nbformat_minor": 0,
  "metadata": {
    "colab": {
      "name": "VGG16.ipynb",
      "provenance": [],
      "authorship_tag": "ABX9TyPZmp41qhs8CRdsvdIT8Kmt",
      "include_colab_link": true
    },
    "kernelspec": {
      "name": "python3",
      "display_name": "Python 3"
    },
    "accelerator": "GPU"
  },
  "cells": [
    {
      "cell_type": "markdown",
      "metadata": {
        "id": "view-in-github",
        "colab_type": "text"
      },
      "source": [
        "<a href=\"https://colab.research.google.com/github/zahrael97/COVID-19-detection-using-deep-Learning/blob/master/VGG/VGG19.ipynb\" target=\"_parent\"><img src=\"https://colab.research.google.com/assets/colab-badge.svg\" alt=\"Open In Colab\"/></a>"
      ]
    },
    {
      "cell_type": "code",
      "metadata": {
        "id": "bsYd1yGlqyi7",
        "colab_type": "code",
        "colab": {}
      },
      "source": [
        "from keras.layers import Input, Lambda, Dense, Flatten\n",
        "from keras.models import Model\n",
        "from keras.applications.vgg19 import VGG19\n",
        "from keras.applications.vgg19 import preprocess_input\n",
        "from keras.preprocessing import image\n",
        "from keras.preprocessing.image import ImageDataGenerator\n",
        "from keras.models import Sequential\n",
        "import numpy as np\n",
        "from glob import glob\n",
        "import matplotlib.pyplot as plt"
      ],
      "execution_count": 0,
      "outputs": []
    },
    {
      "cell_type": "code",
      "metadata": {
        "id": "X_FZC2nJq0DF",
        "colab_type": "code",
        "colab": {}
      },
      "source": [
        "# resize all the images to this\n",
        "IMAGE_SIZE = [224,224]\n",
        "train_path = \"/content/drive/My Drive/Dataset_Zahra/train\"\n",
        "test_path = \"/content/drive/My Drive/Dataset_Zahra/test\""
      ],
      "execution_count": 0,
      "outputs": []
    },
    {
      "cell_type": "code",
      "metadata": {
        "id": "zGPtCr7OrPzJ",
        "colab_type": "code",
        "colab": {}
      },
      "source": [
        "# add preprocessing layer to the front of VGG\n",
        "vgg = VGG19(input_shape=IMAGE_SIZE + [3], weights='imagenet', include_top=False)\n",
        "\n",
        "# don't train existing weights\n",
        "for layer in vgg.layers:\n",
        "  layer.trainable = False"
      ],
      "execution_count": 0,
      "outputs": []
    },
    {
      "cell_type": "code",
      "metadata": {
        "id": "EZ8rR-R7rT6q",
        "colab_type": "code",
        "colab": {}
      },
      "source": [
        "  # useful for getting number of classes\n",
        "folders = glob('/content/drive/My Drive/Dataset_Zahra/train/*')"
      ],
      "execution_count": 0,
      "outputs": []
    },
    {
      "cell_type": "code",
      "metadata": {
        "id": "edmzrZK6rivl",
        "colab_type": "code",
        "colab": {}
      },
      "source": [
        "# our layers - you can add more if you want\n",
        "x = Flatten()(vgg.output)\n",
        "# x = Dense(1000, activation='relu')(x)\n",
        "prediction = Dense(len(folders), activation='softmax')(x)"
      ],
      "execution_count": 0,
      "outputs": []
    },
    {
      "cell_type": "code",
      "metadata": {
        "id": "I-_xnGNLrk4j",
        "colab_type": "code",
        "outputId": "f98ce15f-d7f0-496b-8b17-9e468d2b9978",
        "colab": {
          "base_uri": "https://localhost:8080/",
          "height": 969
        }
      },
      "source": [
        "# create a model object\n",
        "model = Model(inputs=vgg.input, outputs=prediction)\n",
        "\n",
        "# view the structure of the model\n",
        "model.summary()"
      ],
      "execution_count": 17,
      "outputs": [
        {
          "output_type": "stream",
          "text": [
            "Model: \"model_2\"\n",
            "_________________________________________________________________\n",
            "Layer (type)                 Output Shape              Param #   \n",
            "=================================================================\n",
            "input_2 (InputLayer)         (None, 224, 224, 3)       0         \n",
            "_________________________________________________________________\n",
            "block1_conv1 (Conv2D)        (None, 224, 224, 64)      1792      \n",
            "_________________________________________________________________\n",
            "block1_conv2 (Conv2D)        (None, 224, 224, 64)      36928     \n",
            "_________________________________________________________________\n",
            "block1_pool (MaxPooling2D)   (None, 112, 112, 64)      0         \n",
            "_________________________________________________________________\n",
            "block2_conv1 (Conv2D)        (None, 112, 112, 128)     73856     \n",
            "_________________________________________________________________\n",
            "block2_conv2 (Conv2D)        (None, 112, 112, 128)     147584    \n",
            "_________________________________________________________________\n",
            "block2_pool (MaxPooling2D)   (None, 56, 56, 128)       0         \n",
            "_________________________________________________________________\n",
            "block3_conv1 (Conv2D)        (None, 56, 56, 256)       295168    \n",
            "_________________________________________________________________\n",
            "block3_conv2 (Conv2D)        (None, 56, 56, 256)       590080    \n",
            "_________________________________________________________________\n",
            "block3_conv3 (Conv2D)        (None, 56, 56, 256)       590080    \n",
            "_________________________________________________________________\n",
            "block3_conv4 (Conv2D)        (None, 56, 56, 256)       590080    \n",
            "_________________________________________________________________\n",
            "block3_pool (MaxPooling2D)   (None, 28, 28, 256)       0         \n",
            "_________________________________________________________________\n",
            "block4_conv1 (Conv2D)        (None, 28, 28, 512)       1180160   \n",
            "_________________________________________________________________\n",
            "block4_conv2 (Conv2D)        (None, 28, 28, 512)       2359808   \n",
            "_________________________________________________________________\n",
            "block4_conv3 (Conv2D)        (None, 28, 28, 512)       2359808   \n",
            "_________________________________________________________________\n",
            "block4_conv4 (Conv2D)        (None, 28, 28, 512)       2359808   \n",
            "_________________________________________________________________\n",
            "block4_pool (MaxPooling2D)   (None, 14, 14, 512)       0         \n",
            "_________________________________________________________________\n",
            "block5_conv1 (Conv2D)        (None, 14, 14, 512)       2359808   \n",
            "_________________________________________________________________\n",
            "block5_conv2 (Conv2D)        (None, 14, 14, 512)       2359808   \n",
            "_________________________________________________________________\n",
            "block5_conv3 (Conv2D)        (None, 14, 14, 512)       2359808   \n",
            "_________________________________________________________________\n",
            "block5_conv4 (Conv2D)        (None, 14, 14, 512)       2359808   \n",
            "_________________________________________________________________\n",
            "block5_pool (MaxPooling2D)   (None, 7, 7, 512)         0         \n",
            "_________________________________________________________________\n",
            "flatten_2 (Flatten)          (None, 25088)             0         \n",
            "_________________________________________________________________\n",
            "dense_2 (Dense)              (None, 2)                 50178     \n",
            "=================================================================\n",
            "Total params: 20,074,562\n",
            "Trainable params: 50,178\n",
            "Non-trainable params: 20,024,384\n",
            "_________________________________________________________________\n"
          ],
          "name": "stdout"
        }
      ]
    },
    {
      "cell_type": "code",
      "metadata": {
        "id": "vukN7S8SrnuY",
        "colab_type": "code",
        "colab": {}
      },
      "source": [
        "# tell the model what cost and optimization method to use\n",
        "model.compile(\n",
        "  loss='categorical_crossentropy',\n",
        "  optimizer='adam',\n",
        "  metrics=['accuracy']\n",
        ")\n"
      ],
      "execution_count": 0,
      "outputs": []
    },
    {
      "cell_type": "code",
      "metadata": {
        "id": "RYB8D9m6rs_x",
        "colab_type": "code",
        "outputId": "8c17855c-b69b-4f6e-f53d-9777a35dfbfe",
        "colab": {
          "base_uri": "https://localhost:8080/",
          "height": 51
        }
      },
      "source": [
        "from keras.preprocessing.image import ImageDataGenerator\n",
        "\n",
        "train_datagen = ImageDataGenerator(rescale = 1./255,\n",
        "                                   shear_range = 0.2,\n",
        "                                   zoom_range = 0.2,\n",
        "                                   horizontal_flip = True)\n",
        "\n",
        "test_datagen = ImageDataGenerator(rescale = 1./255)\n",
        "\n",
        "training_set = train_datagen.flow_from_directory('/content/drive/My Drive/Dataset_Zahra/train',\n",
        "                                                 target_size = (224, 224),\n",
        "                                                 batch_size = 32,\n",
        "                                                 class_mode = 'categorical')\n",
        "\n",
        "test_set = test_datagen.flow_from_directory('/content/drive/My Drive/Dataset_Zahra/test',\n",
        "                                            target_size = (224, 224),\n",
        "                                            batch_size = 32,\n",
        "                                            class_mode = 'categorical')"
      ],
      "execution_count": 19,
      "outputs": [
        {
          "output_type": "stream",
          "text": [
            "Found 317 images belonging to 2 classes.\n",
            "Found 169 images belonging to 2 classes.\n"
          ],
          "name": "stdout"
        }
      ]
    },
    {
      "cell_type": "code",
      "metadata": {
        "id": "_cL5X-1RnNHG",
        "colab_type": "code",
        "colab": {
          "base_uri": "https://localhost:8080/",
          "height": 122
        },
        "outputId": "3c75ef33-49b0-43f1-c85d-bc7f34d32e1c"
      },
      "source": [
        "from google.colab import drive\n",
        "drive.mount('/content/drive')"
      ],
      "execution_count": 10,
      "outputs": [
        {
          "output_type": "stream",
          "text": [
            "Go to this URL in a browser: https://accounts.google.com/o/oauth2/auth?client_id=947318989803-6bn6qk8qdgf4n4g3pfee6491hc0brc4i.apps.googleusercontent.com&redirect_uri=urn%3aietf%3awg%3aoauth%3a2.0%3aoob&response_type=code&scope=email%20https%3a%2f%2fwww.googleapis.com%2fauth%2fdocs.test%20https%3a%2f%2fwww.googleapis.com%2fauth%2fdrive%20https%3a%2f%2fwww.googleapis.com%2fauth%2fdrive.photos.readonly%20https%3a%2f%2fwww.googleapis.com%2fauth%2fpeopleapi.readonly\n",
            "\n",
            "Enter your authorization code:\n",
            "··········\n",
            "Mounted at /content/drive\n"
          ],
          "name": "stdout"
        }
      ]
    },
    {
      "cell_type": "code",
      "metadata": {
        "id": "AaCoIDTksR7q",
        "colab_type": "code",
        "outputId": "5ad88765-40b5-4595-dcfe-40d97f17cf94",
        "colab": {
          "base_uri": "https://localhost:8080/",
          "height": 1000
        }
      },
      "source": [
        "# fit the model\n",
        "r = model.fit_generator(\n",
        "  training_set,\n",
        "  validation_data=test_set,\n",
        "  epochs=30,\n",
        "  steps_per_epoch=len(training_set),\n",
        "  validation_steps=len(test_set)\n",
        ")"
      ],
      "execution_count": 20,
      "outputs": [
        {
          "output_type": "stream",
          "text": [
            "Epoch 1/30\n",
            "10/10 [==============================] - 104s 10s/step - loss: 0.7489 - accuracy: 0.7350 - val_loss: 0.1898 - val_accuracy: 0.8402\n",
            "Epoch 2/30\n",
            "10/10 [==============================] - 14s 1s/step - loss: 0.2171 - accuracy: 0.9338 - val_loss: 0.1416 - val_accuracy: 0.9763\n",
            "Epoch 3/30\n",
            "10/10 [==============================] - 15s 1s/step - loss: 0.1381 - accuracy: 0.9621 - val_loss: 0.0038 - val_accuracy: 0.9882\n",
            "Epoch 4/30\n",
            "10/10 [==============================] - 15s 1s/step - loss: 0.0951 - accuracy: 0.9779 - val_loss: 0.0225 - val_accuracy: 0.9882\n",
            "Epoch 5/30\n",
            "10/10 [==============================] - 15s 1s/step - loss: 0.0701 - accuracy: 0.9874 - val_loss: 8.8085e-04 - val_accuracy: 1.0000\n",
            "Epoch 6/30\n",
            "10/10 [==============================] - 15s 1s/step - loss: 0.0520 - accuracy: 0.9905 - val_loss: 0.0032 - val_accuracy: 0.9941\n",
            "Epoch 7/30\n",
            "10/10 [==============================] - 15s 1s/step - loss: 0.0457 - accuracy: 0.9905 - val_loss: 0.0571 - val_accuracy: 1.0000\n",
            "Epoch 8/30\n",
            "10/10 [==============================] - 15s 1s/step - loss: 0.0405 - accuracy: 0.9874 - val_loss: 0.0158 - val_accuracy: 0.9941\n",
            "Epoch 9/30\n",
            "10/10 [==============================] - 15s 1s/step - loss: 0.0376 - accuracy: 0.9905 - val_loss: 0.0168 - val_accuracy: 1.0000\n",
            "Epoch 10/30\n",
            "10/10 [==============================] - 15s 1s/step - loss: 0.0365 - accuracy: 0.9905 - val_loss: 0.0207 - val_accuracy: 0.9941\n",
            "Epoch 11/30\n",
            "10/10 [==============================] - 15s 1s/step - loss: 0.0298 - accuracy: 0.9905 - val_loss: 0.0177 - val_accuracy: 0.9941\n",
            "Epoch 12/30\n",
            "10/10 [==============================] - 15s 1s/step - loss: 0.0295 - accuracy: 0.9937 - val_loss: 0.0059 - val_accuracy: 0.9882\n",
            "Epoch 13/30\n",
            "10/10 [==============================] - 15s 1s/step - loss: 0.0236 - accuracy: 0.9968 - val_loss: 0.0058 - val_accuracy: 1.0000\n",
            "Epoch 14/30\n",
            "10/10 [==============================] - 15s 1s/step - loss: 0.0276 - accuracy: 0.9874 - val_loss: 0.0317 - val_accuracy: 0.9882\n",
            "Epoch 15/30\n",
            "10/10 [==============================] - 15s 1s/step - loss: 0.0287 - accuracy: 0.9905 - val_loss: 9.7126e-04 - val_accuracy: 0.9882\n",
            "Epoch 16/30\n",
            "10/10 [==============================] - 15s 1s/step - loss: 0.0393 - accuracy: 0.9874 - val_loss: 0.0021 - val_accuracy: 0.9882\n",
            "Epoch 17/30\n",
            "10/10 [==============================] - 15s 1s/step - loss: 0.0195 - accuracy: 0.9937 - val_loss: 0.0647 - val_accuracy: 0.9882\n",
            "Epoch 18/30\n",
            "10/10 [==============================] - 15s 1s/step - loss: 0.0252 - accuracy: 0.9937 - val_loss: 0.0136 - val_accuracy: 0.9882\n",
            "Epoch 19/30\n",
            "10/10 [==============================] - 15s 1s/step - loss: 0.0387 - accuracy: 0.9905 - val_loss: 0.0023 - val_accuracy: 0.9882\n",
            "Epoch 20/30\n",
            "10/10 [==============================] - 15s 1s/step - loss: 0.0202 - accuracy: 0.9937 - val_loss: 0.1201 - val_accuracy: 0.9941\n",
            "Epoch 21/30\n",
            "10/10 [==============================] - 15s 1s/step - loss: 0.0230 - accuracy: 0.9937 - val_loss: 0.0134 - val_accuracy: 0.9941\n",
            "Epoch 22/30\n",
            "10/10 [==============================] - 15s 1s/step - loss: 0.0198 - accuracy: 0.9874 - val_loss: 0.0076 - val_accuracy: 0.9882\n",
            "Epoch 23/30\n",
            "10/10 [==============================] - 15s 1s/step - loss: 0.0239 - accuracy: 0.9874 - val_loss: 0.0015 - val_accuracy: 0.9882\n",
            "Epoch 24/30\n",
            "10/10 [==============================] - 15s 1s/step - loss: 0.0221 - accuracy: 0.9937 - val_loss: 0.1164 - val_accuracy: 0.9882\n",
            "Epoch 25/30\n",
            "10/10 [==============================] - 15s 1s/step - loss: 0.0167 - accuracy: 0.9937 - val_loss: 0.0234 - val_accuracy: 0.9882\n",
            "Epoch 26/30\n",
            "10/10 [==============================] - 15s 1s/step - loss: 0.0267 - accuracy: 0.9905 - val_loss: 0.1459 - val_accuracy: 0.9704\n",
            "Epoch 27/30\n",
            "10/10 [==============================] - 15s 1s/step - loss: 0.0370 - accuracy: 0.9874 - val_loss: 0.2229 - val_accuracy: 0.9882\n",
            "Epoch 28/30\n",
            "10/10 [==============================] - 15s 1s/step - loss: 0.0208 - accuracy: 0.9937 - val_loss: 0.2879 - val_accuracy: 0.9882\n",
            "Epoch 29/30\n",
            "10/10 [==============================] - 15s 1s/step - loss: 0.0265 - accuracy: 0.9905 - val_loss: 0.0024 - val_accuracy: 0.9882\n",
            "Epoch 30/30\n",
            "10/10 [==============================] - 15s 1s/step - loss: 0.0222 - accuracy: 0.9905 - val_loss: 0.0139 - val_accuracy: 0.9882\n"
          ],
          "name": "stdout"
        }
      ]
    },
    {
      "cell_type": "code",
      "metadata": {
        "id": "YRS8HMsNsSp2",
        "colab_type": "code",
        "outputId": "a71bea8c-2506-45de-ff2d-376bb51c148e",
        "colab": {
          "base_uri": "https://localhost:8080/",
          "height": 530
        }
      },
      "source": [
        "# loss\n",
        "plt.plot(r.history['loss'], label='train loss')\n",
        "plt.plot(r.history['val_loss'], label='val loss')\n",
        "plt.legend()\n",
        "plt.show()\n",
        "plt.savefig('LossVal_loss')\n",
        "\n",
        "# accuracies\n",
        "plt.plot(r.history['accuracy'], label='train acc')\n",
        "plt.plot(r.history['val_accuracy'], label='val acc')\n",
        "plt.legend()\n",
        "plt.show()\n",
        "plt.savefig('AccVal_accuracy')\n",
        "\n",
        "import tensorflow as tf\n",
        "\n",
        "from keras.models import load_model\n",
        "\n",
        "model.save('VGG19.h5')"
      ],
      "execution_count": 21,
      "outputs": [
        {
          "output_type": "display_data",
          "data": {
            "image/png": "[encoded data removed]",
            "text/plain": [
              "<Figure size 432x288 with 1 Axes>"
            ]
          },
          "metadata": {
            "tags": [],
            "needs_background": "light"
          }
        },
        {
          "output_type": "display_data",
          "data": {
            "image/png": "[encoded data removed]",
            "text/plain": [
              "<Figure size 432x288 with 1 Axes>"
            ]
          },
          "metadata": {
            "tags": [],
            "needs_background": "light"
          }
        },
        {
          "output_type": "display_data",
          "data": {
            "text/plain": [
              "<Figure size 432x288 with 0 Axes>"
            ]
          },
          "metadata": {
            "tags": []
          }
        }
      ]
    }
  ]
}