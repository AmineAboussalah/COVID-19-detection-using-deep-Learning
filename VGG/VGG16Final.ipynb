{
  "nbformat": 4,
  "nbformat_minor": 0,
  "metadata": {
    "colab": {
      "name": "Copie de InceptionResNetV2.ipynb",
      "provenance": [],
      "collapsed_sections": [],
      "toc_visible": true,
      "include_colab_link": true
    },
    "kernelspec": {
      "name": "python3",
      "display_name": "Python 3"
    },
    "accelerator": "GPU"
  },
  "cells": [
    {
      "cell_type": "markdown",
      "metadata": {
        "id": "view-in-github",
        "colab_type": "text"
      },
      "source": [
        "<a href=\"https://colab.research.google.com/github/zahrael97/COVID-19-detection-using-deep-Learning/blob/master/VGG/VGG16Final.ipynb\" target=\"_parent\"><img src=\"https://colab.research.google.com/assets/colab-badge.svg\" alt=\"Open In Colab\"/></a>"
      ]
    },
    {
      "cell_type": "markdown",
      "metadata": {
        "id": "D7-_bZ2oHs1a",
        "colab_type": "text"
      },
      "source": [
        "# **Covid Detection using Transfer Learning**"
      ]
    },
    {
      "cell_type": "code",
      "metadata": {
        "id": "jxwjiEMNR8Qt",
        "colab_type": "code",
        "colab": {
          "base_uri": "https://localhost:8080/",
          "height": 34
        },
        "outputId": "836bf027-a119-4ee2-8fd4-55653073e89c"
      },
      "source": [
        "# importing all the required libraries and modules\n",
        "\n",
        "import numpy as np\n",
        "import os, random\n",
        "import keras\n",
        "import matplotlib.pyplot as plt\n",
        "import tensorflow as tf\n",
        "from keras.layers import Dense,GlobalAveragePooling2D\n",
        "from keras.applications.vgg16 import VGG16\n",
        "from keras.preprocessing import image\n",
        "from keras.applications.vgg16 import preprocess_input\n",
        "from keras.preprocessing.image import ImageDataGenerator\n",
        "from keras.models import Model\n",
        "from keras.optimizers import Adam\n",
        "from sklearn.metrics import precision_score, recall_score, f1_score, roc_auc_score, classification_report, confusion_matrix"
      ],
      "execution_count": 1,
      "outputs": [
        {
          "output_type": "stream",
          "text": [
            "Using TensorFlow backend.\n"
          ],
          "name": "stderr"
        }
      ]
    },
    {
      "cell_type": "code",
      "metadata": {
        "id": "nIIK8MfUSYs_",
        "colab_type": "code",
        "outputId": "50742085-4315-48d7-f2bd-8cd10f790627",
        "colab": {
          "base_uri": "https://localhost:8080/",
          "height": 122
        }
      },
      "source": [
        "from google.colab import drive\n",
        "drive.mount('/content/drive')"
      ],
      "execution_count": 2,
      "outputs": [
        {
          "output_type": "stream",
          "text": [
            "Go to this URL in a browser: https://accounts.google.com/o/oauth2/auth?client_id=947318989803-6bn6qk8qdgf4n4g3pfee6491hc0brc4i.apps.googleusercontent.com&redirect_uri=urn%3aietf%3awg%3aoauth%3a2.0%3aoob&response_type=code&scope=email%20https%3a%2f%2fwww.googleapis.com%2fauth%2fdocs.test%20https%3a%2f%2fwww.googleapis.com%2fauth%2fdrive%20https%3a%2f%2fwww.googleapis.com%2fauth%2fdrive.photos.readonly%20https%3a%2f%2fwww.googleapis.com%2fauth%2fpeopleapi.readonly\n",
            "\n",
            "Enter your authorization code:\n",
            "··········\n",
            "Mounted at /content/drive\n"
          ],
          "name": "stdout"
        }
      ]
    },
    {
      "cell_type": "code",
      "metadata": {
        "id": "AdZzBjU8SlvR",
        "colab_type": "code",
        "colab": {}
      },
      "source": [
        "# Path of various directories\n",
        "# Dataset : Chest X-Ray Images (Pneumonia) from Kaggle \n",
        "\n",
        "TRAIN_DIR = '/content/drive/My Drive/Dataset_Zahra/train'\n",
        "TEST_DIR = '/content/drive/My Drive/Dataset_Zahra/test'\n",
        "#VAL_DIR = '/content/drive/My Drive/chest_xray/val'\n",
        "\n",
        "Covid_train = '/content/drive/My Drive/chest_xray/train/Covid'\n",
        "normal_train = '/content/drive/My Drive/chest_xray/train/normal'\n",
        "\n",
        "Covid_test = '/content/drive/My Drive/chest_xray/test/Covid'\n",
        "normal_test = '/content/drive/My Drive/chest_xray/test/normal'\n",
        "\n",
        "#pneumonia_val = '/content/drive/My Drive/chest_xray/val/PNEUMONIA'\n",
        "#normal_val = '/content/drive/My Drive/chest_xray/val/NORMAL'"
      ],
      "execution_count": 0,
      "outputs": []
    },
    {
      "cell_type": "markdown",
      "metadata": {
        "id": "pQsQzQU3J6Qz",
        "colab_type": "text"
      },
      "source": [
        "# **Customizing the InceptionResNetV3 model**"
      ]
    },
    {
      "cell_type": "code",
      "metadata": {
        "id": "KH5Dv_2rSusw",
        "colab_type": "code",
        "colab": {
          "base_uri": "https://localhost:8080/",
          "height": 71
        },
        "outputId": "948932b6-5022-4b02-e250-81efd33f0c6c"
      },
      "source": [
        "base_model=VGG16(weights='imagenet',include_top=False)\n",
        "# and slices off the top layer which is the one that classifies objects into various classes (we don't want this layer)\n",
        "\n",
        "# Setting up the pre-trained weights of the inceptionv3 model as non-trainable\n",
        "for layer in base_model.layers:\n",
        "    layer.trainable=False       \n",
        "\n",
        "# Adding new layers on top of the base model\n",
        "x=base_model.output\n",
        "x=GlobalAveragePooling2D()(x)\n",
        "x=Dense(1024,activation='relu')(x) #we add dense layers so that the model can learn more complex functions and classify for better results\n",
        "x=Dense(1024,activation='relu')(x) #dense layer 2\n",
        "x=Dense(512,activation='relu')(x) #dense layer 3\n",
        "preds=Dense(2,activation='softmax')(x) #final layer with softmax activation - here, we have only 2 classes (Pneumonia & Normal)"
      ],
      "execution_count": 4,
      "outputs": [
        {
          "output_type": "stream",
          "text": [
            "Downloading data from https://github.com/fchollet/deep-learning-models/releases/download/v0.1/vgg16_weights_tf_dim_ordering_tf_kernels_notop.h5\n",
            "58892288/58889256 [==============================] - 2s 0us/step\n"
          ],
          "name": "stdout"
        }
      ]
    },
    {
      "cell_type": "code",
      "metadata": {
        "id": "580AmdRNUGIT",
        "colab_type": "code",
        "outputId": "ca737b84-87c6-4f27-e6fb-5971d20aea04",
        "colab": {
          "base_uri": "https://localhost:8080/",
          "height": 969
        }
      },
      "source": [
        "# Specify the inputs\n",
        "# Specify the outputs\n",
        "model=Model(inputs=base_model.inputs,outputs=preds)\n",
        "\n",
        "# A new model has been created based on our architecture\n",
        "model.summary()"
      ],
      "execution_count": 5,
      "outputs": [
        {
          "output_type": "stream",
          "text": [
            "Model: \"model_1\"\n",
            "_________________________________________________________________\n",
            "Layer (type)                 Output Shape              Param #   \n",
            "=================================================================\n",
            "input_1 (InputLayer)         (None, None, None, 3)     0         \n",
            "_________________________________________________________________\n",
            "block1_conv1 (Conv2D)        (None, None, None, 64)    1792      \n",
            "_________________________________________________________________\n",
            "block1_conv2 (Conv2D)        (None, None, None, 64)    36928     \n",
            "_________________________________________________________________\n",
            "block1_pool (MaxPooling2D)   (None, None, None, 64)    0         \n",
            "_________________________________________________________________\n",
            "block2_conv1 (Conv2D)        (None, None, None, 128)   73856     \n",
            "_________________________________________________________________\n",
            "block2_conv2 (Conv2D)        (None, None, None, 128)   147584    \n",
            "_________________________________________________________________\n",
            "block2_pool (MaxPooling2D)   (None, None, None, 128)   0         \n",
            "_________________________________________________________________\n",
            "block3_conv1 (Conv2D)        (None, None, None, 256)   295168    \n",
            "_________________________________________________________________\n",
            "block3_conv2 (Conv2D)        (None, None, None, 256)   590080    \n",
            "_________________________________________________________________\n",
            "block3_conv3 (Conv2D)        (None, None, None, 256)   590080    \n",
            "_________________________________________________________________\n",
            "block3_pool (MaxPooling2D)   (None, None, None, 256)   0         \n",
            "_________________________________________________________________\n",
            "block4_conv1 (Conv2D)        (None, None, None, 512)   1180160   \n",
            "_________________________________________________________________\n",
            "block4_conv2 (Conv2D)        (None, None, None, 512)   2359808   \n",
            "_________________________________________________________________\n",
            "block4_conv3 (Conv2D)        (None, None, None, 512)   2359808   \n",
            "_________________________________________________________________\n",
            "block4_pool (MaxPooling2D)   (None, None, None, 512)   0         \n",
            "_________________________________________________________________\n",
            "block5_conv1 (Conv2D)        (None, None, None, 512)   2359808   \n",
            "_________________________________________________________________\n",
            "block5_conv2 (Conv2D)        (None, None, None, 512)   2359808   \n",
            "_________________________________________________________________\n",
            "block5_conv3 (Conv2D)        (None, None, None, 512)   2359808   \n",
            "_________________________________________________________________\n",
            "block5_pool (MaxPooling2D)   (None, None, None, 512)   0         \n",
            "_________________________________________________________________\n",
            "global_average_pooling2d_1 ( (None, 512)               0         \n",
            "_________________________________________________________________\n",
            "dense_1 (Dense)              (None, 1024)              525312    \n",
            "_________________________________________________________________\n",
            "dense_2 (Dense)              (None, 1024)              1049600   \n",
            "_________________________________________________________________\n",
            "dense_3 (Dense)              (None, 512)               524800    \n",
            "_________________________________________________________________\n",
            "dense_4 (Dense)              (None, 2)                 1026      \n",
            "=================================================================\n",
            "Total params: 16,815,426\n",
            "Trainable params: 2,100,738\n",
            "Non-trainable params: 14,714,688\n",
            "_________________________________________________________________\n"
          ],
          "name": "stdout"
        }
      ]
    },
    {
      "cell_type": "code",
      "metadata": {
        "id": "YPS9kDhmY-RJ",
        "colab_type": "code",
        "outputId": "0fa61260-a5ce-4a86-fb71-03aed20ad6ad",
        "colab": {
          "base_uri": "https://localhost:8080/",
          "height": 425
        }
      },
      "source": [
        "# Name of all the layers in our new model which is built on top of the Inceptionv3 model (look at No. 311 till final layer)\n",
        "for i,layer in enumerate(model.layers):\n",
        "  print(i,layer.name)"
      ],
      "execution_count": 6,
      "outputs": [
        {
          "output_type": "stream",
          "text": [
            "0 input_1\n",
            "1 block1_conv1\n",
            "2 block1_conv2\n",
            "3 block1_pool\n",
            "4 block2_conv1\n",
            "5 block2_conv2\n",
            "6 block2_pool\n",
            "7 block3_conv1\n",
            "8 block3_conv2\n",
            "9 block3_conv3\n",
            "10 block3_pool\n",
            "11 block4_conv1\n",
            "12 block4_conv2\n",
            "13 block4_conv3\n",
            "14 block4_pool\n",
            "15 block5_conv1\n",
            "16 block5_conv2\n",
            "17 block5_conv3\n",
            "18 block5_pool\n",
            "19 global_average_pooling2d_1\n",
            "20 dense_1\n",
            "21 dense_2\n",
            "22 dense_3\n",
            "23 dense_4\n"
          ],
          "name": "stdout"
        }
      ]
    },
    {
      "cell_type": "markdown",
      "metadata": {
        "id": "viA-Ty3MObPB",
        "colab_type": "text"
      },
      "source": [
        "## **Data Preparation**"
      ]
    },
    {
      "cell_type": "code",
      "metadata": {
        "id": "_yS7Gqt1eBcc",
        "colab_type": "code",
        "outputId": "6a3e4b4c-7506-475d-9347-8d630a2e5883",
        "colab": {
          "base_uri": "https://localhost:8080/",
          "height": 51
        }
      },
      "source": [
        "def dir_file_count(directory):\n",
        "  #Total number of files present inside the 'directory'\n",
        "  return sum([len(files) for r, d, files in os.walk(directory)])\n",
        "\n",
        "# Configuration parameters \n",
        "rescale = 1./255\n",
        "target_size = (224, 224)\n",
        "batch_size = 32            #Specifying the batch size\n",
        "class_mode = 'categorical'\n",
        "\n",
        "# Augment the training dataset images \n",
        "train_datagen = ImageDataGenerator(rescale=rescale,\n",
        "                                   shear_range=0.2,\n",
        "                                   zoom_range=0.2,\n",
        "                                   horizontal_flip=True,\n",
        "                                   validation_split=0.2)\n",
        "# Load the images in the generator \n",
        "train_generator = train_datagen.flow_from_directory(TRAIN_DIR,\n",
        "                                                    target_size=target_size,\n",
        "                                                    class_mode=class_mode,\n",
        "                                                    batch_size=batch_size,\n",
        "                                                    shuffle=True)\n",
        "# Augment the validation dataset images\n",
        "#val_datagen = ImageDataGenerator(rescale=rescale)\n",
        "# Load the images in the generator\n",
        "#val_generator = val_datagen.flow_from_directory(VAL_DIR, \n",
        "  #                                              target_size=target_size,\n",
        "  #                                              class_mode=class_mode,\n",
        "  #                                              batch_size=dir_file_count(VAL_DIR),\n",
        "    #                                            shuffle=False)\n",
        "# Augment the test dataset images\n",
        "test_datagen = ImageDataGenerator(rescale=rescale,\n",
        "                                   shear_range=0.2,\n",
        "                                   zoom_range=0.2,\n",
        "                                   horizontal_flip=True,\n",
        "                                   validation_split=0.2)\n",
        "# Load the images in the generator\n",
        "test_generator = test_datagen.flow_from_directory(TEST_DIR,\n",
        "                                                  target_size=target_size,\n",
        "                                                  class_mode=class_mode,\n",
        "                                                  batch_size=dir_file_count(TEST_DIR),\n",
        "                                                  shuffle=False)"
      ],
      "execution_count": 10,
      "outputs": [
        {
          "output_type": "stream",
          "text": [
            "Found 376 images belonging to 2 classes.\n",
            "Found 122 images belonging to 2 classes.\n"
          ],
          "name": "stdout"
        }
      ]
    },
    {
      "cell_type": "markdown",
      "metadata": {
        "id": "Y5k16Y4FPC0b",
        "colab_type": "text"
      },
      "source": [
        "# **Training Process of our custom model**"
      ]
    },
    {
      "cell_type": "code",
      "metadata": {
        "id": "BnPXjkDMhH_l",
        "colab_type": "code",
        "outputId": "ac7d085b-50ff-4d5e-ff74-43bd66423a46",
        "colab": {
          "base_uri": "https://localhost:8080/",
          "height": 1000
        }
      },
      "source": [
        "model.compile(optimizer='Adam',loss='categorical_crossentropy',metrics=['accuracy'])\n",
        "# Adam optimizer\n",
        "# Loss function will be categorical cross entropy\n",
        "# Evaluation metric will be accuracy\n",
        "\n",
        "# Start the training\n",
        "history = model.fit_generator(train_generator,\n",
        "                              steps_per_epoch=len(train_generator),\n",
        "                              epochs=30,                                # Specifying the no. of epochs\n",
        "                              validation_data=test_generator,\n",
        "                              validation_steps=len(test_generator))"
      ],
      "execution_count": 11,
      "outputs": [
        {
          "output_type": "stream",
          "text": [
            "Epoch 1/30\n",
            "12/12 [==============================] - 19s 2s/step - loss: 0.0293 - accuracy: 0.9920 - val_loss: 0.0341 - val_accuracy: 0.9836\n",
            "Epoch 2/30\n",
            "12/12 [==============================] - 17s 1s/step - loss: 0.0118 - accuracy: 0.9947 - val_loss: 0.0563 - val_accuracy: 0.9918\n",
            "Epoch 3/30\n",
            "12/12 [==============================] - 18s 1s/step - loss: 0.0024 - accuracy: 0.9973 - val_loss: 0.0322 - val_accuracy: 0.9918\n",
            "Epoch 4/30\n",
            "12/12 [==============================] - 18s 1s/step - loss: 0.0037 - accuracy: 0.9973 - val_loss: 0.1039 - val_accuracy: 0.9672\n",
            "Epoch 5/30\n",
            "12/12 [==============================] - 18s 1s/step - loss: 6.0478e-04 - accuracy: 1.0000 - val_loss: 0.0725 - val_accuracy: 0.9918\n",
            "Epoch 6/30\n",
            "12/12 [==============================] - 18s 1s/step - loss: 0.0022 - accuracy: 1.0000 - val_loss: 0.0041 - val_accuracy: 1.0000\n",
            "Epoch 7/30\n",
            "12/12 [==============================] - 18s 1s/step - loss: 1.7136e-04 - accuracy: 1.0000 - val_loss: 0.0016 - val_accuracy: 1.0000\n",
            "Epoch 8/30\n",
            "12/12 [==============================] - 18s 1s/step - loss: 0.0470 - accuracy: 0.9947 - val_loss: 0.0676 - val_accuracy: 0.9836\n",
            "Epoch 9/30\n",
            "12/12 [==============================] - 18s 1s/step - loss: 0.0187 - accuracy: 0.9920 - val_loss: 0.0258 - val_accuracy: 0.9918\n",
            "Epoch 10/30\n",
            "12/12 [==============================] - 18s 1s/step - loss: 0.0133 - accuracy: 0.9973 - val_loss: 0.0326 - val_accuracy: 0.9836\n",
            "Epoch 11/30\n",
            "12/12 [==============================] - 18s 1s/step - loss: 0.0244 - accuracy: 0.9947 - val_loss: 0.0299 - val_accuracy: 0.9918\n",
            "Epoch 12/30\n",
            "12/12 [==============================] - 18s 1s/step - loss: 0.0014 - accuracy: 1.0000 - val_loss: 0.0841 - val_accuracy: 0.9754\n",
            "Epoch 13/30\n",
            "12/12 [==============================] - 18s 1s/step - loss: 0.0017 - accuracy: 1.0000 - val_loss: 0.0128 - val_accuracy: 0.9918\n",
            "Epoch 14/30\n",
            "12/12 [==============================] - 18s 1s/step - loss: 0.0030 - accuracy: 0.9973 - val_loss: 0.0662 - val_accuracy: 0.9754\n",
            "Epoch 15/30\n",
            "12/12 [==============================] - 18s 1s/step - loss: 9.2629e-04 - accuracy: 1.0000 - val_loss: 0.0124 - val_accuracy: 0.9918\n",
            "Epoch 16/30\n",
            "12/12 [==============================] - 18s 1s/step - loss: 0.0021 - accuracy: 1.0000 - val_loss: 0.0780 - val_accuracy: 0.9836\n",
            "Epoch 17/30\n",
            "12/12 [==============================] - 18s 1s/step - loss: 0.0021 - accuracy: 0.9973 - val_loss: 0.0930 - val_accuracy: 0.9754\n",
            "Epoch 18/30\n",
            "12/12 [==============================] - 18s 1s/step - loss: 0.0032 - accuracy: 1.0000 - val_loss: 0.0013 - val_accuracy: 1.0000\n",
            "Epoch 19/30\n",
            "12/12 [==============================] - 17s 1s/step - loss: 6.8867e-06 - accuracy: 1.0000 - val_loss: 0.0234 - val_accuracy: 0.9918\n",
            "Epoch 20/30\n",
            "12/12 [==============================] - 18s 1s/step - loss: 8.6547e-05 - accuracy: 1.0000 - val_loss: 0.0278 - val_accuracy: 0.9918\n",
            "Epoch 21/30\n",
            "12/12 [==============================] - 18s 1s/step - loss: 1.1241e-05 - accuracy: 1.0000 - val_loss: 0.0604 - val_accuracy: 0.9836\n",
            "Epoch 22/30\n",
            "12/12 [==============================] - 18s 1s/step - loss: 1.2827e-05 - accuracy: 1.0000 - val_loss: 0.1619 - val_accuracy: 0.9672\n",
            "Epoch 23/30\n",
            "12/12 [==============================] - 18s 1s/step - loss: 1.0088e-04 - accuracy: 1.0000 - val_loss: 0.1678 - val_accuracy: 0.9672\n",
            "Epoch 24/30\n",
            "12/12 [==============================] - 18s 1s/step - loss: 0.0039 - accuracy: 0.9973 - val_loss: 0.1077 - val_accuracy: 0.9918\n",
            "Epoch 25/30\n",
            "12/12 [==============================] - 18s 1s/step - loss: 0.0220 - accuracy: 0.9894 - val_loss: 0.0458 - val_accuracy: 0.9836\n",
            "Epoch 26/30\n",
            "12/12 [==============================] - 18s 1s/step - loss: 0.0111 - accuracy: 0.9920 - val_loss: 0.0404 - val_accuracy: 0.9918\n",
            "Epoch 27/30\n",
            "12/12 [==============================] - 18s 1s/step - loss: 0.0056 - accuracy: 0.9973 - val_loss: 0.0936 - val_accuracy: 0.9836\n",
            "Epoch 28/30\n",
            "12/12 [==============================] - 18s 1s/step - loss: 3.5418e-04 - accuracy: 1.0000 - val_loss: 0.0411 - val_accuracy: 0.9918\n",
            "Epoch 29/30\n",
            "12/12 [==============================] - 18s 1s/step - loss: 9.3962e-05 - accuracy: 1.0000 - val_loss: 0.0582 - val_accuracy: 0.9836\n",
            "Epoch 30/30\n",
            "12/12 [==============================] - 18s 1s/step - loss: 0.0030 - accuracy: 0.9973 - val_loss: 0.0450 - val_accuracy: 0.9918\n"
          ],
          "name": "stdout"
        }
      ]
    },
    {
      "cell_type": "markdown",
      "metadata": {
        "id": "8QWRSrZDQNYr",
        "colab_type": "text"
      },
      "source": [
        "# **Evaluation metrics (Performance)**"
      ]
    },
    {
      "cell_type": "code",
      "metadata": {
        "id": "In9__szgl9Na",
        "colab_type": "code",
        "outputId": "8fd55ba4-5656-4a29-9362-7363fa7bfb46",
        "colab": {
          "base_uri": "https://localhost:8080/",
          "height": 459
        }
      },
      "source": [
        "y_pred = model.predict_generator(test_generator, steps=len(test_generator), verbose=1)\n",
        "y_pred = y_pred.argmax(axis=-1)\n",
        "y_true = test_generator.classes\n",
        "\n",
        "precision = precision_score(y_true, y_pred) \n",
        "recall = recall_score(y_true, y_pred) \n",
        "f1 = f1_score(y_true, y_pred) \n",
        "confusion = confusion_matrix(y_true, y_pred, labels=None, sample_weight=None, normalize=None)\n",
        "print(\"-\"*70)\n",
        "print(\"Report\")\n",
        "print(\"-\"*70)\n",
        "print(\"%s%.2f%s\"% (\"Precision     : \", precision*100, \"%\"))\n",
        "print(\"%s%.2f%s\"% (\"Recall        : \", recall*100,    \"%\"))\n",
        "print(\"%s%.2f%s\"% (\"F1-Score      : \", f1*100,        \"%\"))\n",
        "print(\"-\"*70)\n",
        "print(\"\\n\\n\")\n",
        "\n",
        "cls_report_print = classification_report(y_true, y_pred, target_names=['covid', 'Normal'])\n",
        "\n",
        "cls_report = classification_report(y_true, y_pred, target_names=['covid', 'Normal'], output_dict=True)\n",
        "\n",
        "print(\"-\"*70)\n",
        "print(\"covid Prediction\")\n",
        "print(\"-\"*70)\n",
        "print(cls_report_print)\n",
        "print(\"-\"*70)\n",
        "\n",
        "print( confusion)"
      ],
      "execution_count": 12,
      "outputs": [
        {
          "output_type": "stream",
          "text": [
            "\r1/1 [==============================] - 5s 5s/step\n",
            "----------------------------------------------------------------------\n",
            "Report\n",
            "----------------------------------------------------------------------\n",
            "Precision     : 96.83%\n",
            "Recall        : 98.39%\n",
            "F1-Score      : 97.60%\n",
            "----------------------------------------------------------------------\n",
            "\n",
            "\n",
            "\n",
            "----------------------------------------------------------------------\n",
            "covid Prediction\n",
            "----------------------------------------------------------------------\n",
            "              precision    recall  f1-score   support\n",
            "\n",
            "       covid       0.98      0.97      0.97        60\n",
            "      Normal       0.97      0.98      0.98        62\n",
            "\n",
            "    accuracy                           0.98       122\n",
            "   macro avg       0.98      0.98      0.98       122\n",
            "weighted avg       0.98      0.98      0.98       122\n",
            "\n",
            "----------------------------------------------------------------------\n",
            "[[58  2]\n",
            " [ 1 61]]\n"
          ],
          "name": "stdout"
        }
      ]
    },
    {
      "cell_type": "code",
      "metadata": {
        "id": "GPxacsGPxe7S",
        "colab_type": "code",
        "outputId": "d9b6eed5-c35a-4574-f8ff-676dd74ba2e4",
        "colab": {
          "base_uri": "https://localhost:8080/",
          "height": 530
        }
      },
      "source": [
        "# loss\n",
        "plt.plot(history.history['loss'], label='train loss')\n",
        "plt.plot(history.history['val_loss'], label='val loss')\n",
        "plt.legend()\n",
        "plt.show()\n",
        "plt.savefig('LossVal_loss')\n",
        "\n",
        "# accuracies\n",
        "plt.plot(history.history['accuracy'], label='train acc')\n",
        "plt.plot(history.history['val_accuracy'], label='val acc')\n",
        "plt.legend()\n",
        "plt.show()\n",
        "plt.savefig('AccVal_accuracy')\n",
        "\n",
        "import tensorflow as tf\n",
        "\n",
        "from keras.models import load_model\n",
        "\n",
        "model.save('InceptionV3.h5')"
      ],
      "execution_count": 0,
      "outputs": [
        {
          "output_type": "display_data",
          "data": {
            "image/png": "[encoded data removed]",
            "text/plain": [
              "<Figure size 432x288 with 1 Axes>"
            ]
          },
          "metadata": {
            "tags": [],
            "needs_background": "light"
          }
        },
        {
          "output_type": "display_data",
          "data": {
            "image/png": "[encoded data removed]",
            "text/plain": [
              "<Figure size 432x288 with 1 Axes>"
            ]
          },
          "metadata": {
            "tags": [],
            "needs_background": "light"
          }
        },
        {
          "output_type": "display_data",
          "data": {
            "text/plain": [
              "<Figure size 432x288 with 0 Axes>"
            ]
          },
          "metadata": {
            "tags": []
          }
        }
      ]
    },
    {
      "cell_type": "code",
      "metadata": {
        "id": "PMc1d6tV-o6_",
        "colab_type": "code",
        "colab": {}
      },
      "source": [
        ""
      ],
      "execution_count": 0,
      "outputs": []
    }
  ]
}