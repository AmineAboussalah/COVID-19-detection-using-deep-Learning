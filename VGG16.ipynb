{
  "nbformat": 4,
  "nbformat_minor": 0,
  "metadata": {
    "colab": {
      "name": "VGG16.ipynb",
      "provenance": [],
      "authorship_tag": "ABX9TyOAnOIm1xaHHB1LAr2HR253",
      "include_colab_link": true
    },
    "kernelspec": {
      "name": "python3",
      "display_name": "Python 3"
    },
    "accelerator": "GPU"
  },
  "cells": [
    {
      "cell_type": "markdown",
      "metadata": {
        "id": "view-in-github",
        "colab_type": "text"
      },
      "source": [
        "<a href=\"https://colab.research.google.com/github/zahrael97/COVID-19-detection-using-deep-Learning/blob/master/VGG16.ipynb\" target=\"_parent\"><img src=\"https://colab.research.google.com/assets/colab-badge.svg\" alt=\"Open In Colab\"/></a>"
      ]
    },
    {
      "cell_type": "code",
      "metadata": {
        "id": "bsYd1yGlqyi7",
        "colab_type": "code",
        "outputId": "a5573162-3dfb-4820-c33a-0a817ffdd70a",
        "colab": {
          "base_uri": "https://localhost:8080/",
          "height": 34
        }
      },
      "source": [
        "from keras.layers import Input, Lambda, Dense, Flatten\n",
        "from keras.models import Model\n",
        "from keras.applications.vgg16 import VGG16\n",
        "from keras.applications.vgg16 import preprocess_input\n",
        "from keras.preprocessing import image\n",
        "from keras.preprocessing.image import ImageDataGenerator\n",
        "from keras.models import Sequential\n",
        "import numpy as np\n",
        "from glob import glob\n",
        "import matplotlib.pyplot as plt"
      ],
      "execution_count": 1,
      "outputs": [
        {
          "output_type": "stream",
          "text": [
            "Using TensorFlow backend.\n"
          ],
          "name": "stderr"
        }
      ]
    },
    {
      "cell_type": "code",
      "metadata": {
        "id": "X_FZC2nJq0DF",
        "colab_type": "code",
        "colab": {}
      },
      "source": [
        "# resize all the images to this\n",
        "IMAGE_SIZE = [224,224]\n",
        "train_path = \"/content/drive/My Drive/Dataset_Zahra/train\"\n",
        "test_path = \"/content/drive/My Drive/Dataset_Zahra/test\""
      ],
      "execution_count": 0,
      "outputs": []
    },
    {
      "cell_type": "code",
      "metadata": {
        "id": "zGPtCr7OrPzJ",
        "colab_type": "code",
        "colab": {}
      },
      "source": [
        "# add preprocessing layer to the front of VGG\n",
        "vgg = VGG16(input_shape=IMAGE_SIZE + [3], weights='imagenet', include_top=False)\n",
        "\n",
        "# don't train existing weights\n",
        "for layer in vgg.layers:\n",
        "  layer.trainable = False"
      ],
      "execution_count": 0,
      "outputs": []
    },
    {
      "cell_type": "code",
      "metadata": {
        "id": "EZ8rR-R7rT6q",
        "colab_type": "code",
        "colab": {}
      },
      "source": [
        "  # useful for getting number of classes\n",
        "folders = glob('/content/drive/My Drive/Dataset_Zahra/train/*')"
      ],
      "execution_count": 0,
      "outputs": []
    },
    {
      "cell_type": "code",
      "metadata": {
        "id": "edmzrZK6rivl",
        "colab_type": "code",
        "colab": {}
      },
      "source": [
        "# our layers - you can add more if you want\n",
        "x = Flatten()(vgg.output)\n",
        "# x = Dense(1000, activation='relu')(x)\n",
        "prediction = Dense(len(folders), activation='softmax')(x)"
      ],
      "execution_count": 0,
      "outputs": []
    },
    {
      "cell_type": "code",
      "metadata": {
        "id": "I-_xnGNLrk4j",
        "colab_type": "code",
        "outputId": "7f329d9e-501d-48ad-db32-e34059c98dcf",
        "colab": {
          "base_uri": "https://localhost:8080/",
          "height": 867
        }
      },
      "source": [
        "# create a model object\n",
        "model = Model(inputs=vgg.input, outputs=prediction)\n",
        "\n",
        "# view the structure of the model\n",
        "model.summary()"
      ],
      "execution_count": 6,
      "outputs": [
        {
          "output_type": "stream",
          "text": [
            "Model: \"model_1\"\n",
            "_________________________________________________________________\n",
            "Layer (type)                 Output Shape              Param #   \n",
            "=================================================================\n",
            "input_1 (InputLayer)         (None, 224, 224, 3)       0         \n",
            "_________________________________________________________________\n",
            "block1_conv1 (Conv2D)        (None, 224, 224, 64)      1792      \n",
            "_________________________________________________________________\n",
            "block1_conv2 (Conv2D)        (None, 224, 224, 64)      36928     \n",
            "_________________________________________________________________\n",
            "block1_pool (MaxPooling2D)   (None, 112, 112, 64)      0         \n",
            "_________________________________________________________________\n",
            "block2_conv1 (Conv2D)        (None, 112, 112, 128)     73856     \n",
            "_________________________________________________________________\n",
            "block2_conv2 (Conv2D)        (None, 112, 112, 128)     147584    \n",
            "_________________________________________________________________\n",
            "block2_pool (MaxPooling2D)   (None, 56, 56, 128)       0         \n",
            "_________________________________________________________________\n",
            "block3_conv1 (Conv2D)        (None, 56, 56, 256)       295168    \n",
            "_________________________________________________________________\n",
            "block3_conv2 (Conv2D)        (None, 56, 56, 256)       590080    \n",
            "_________________________________________________________________\n",
            "block3_conv3 (Conv2D)        (None, 56, 56, 256)       590080    \n",
            "_________________________________________________________________\n",
            "block3_pool (MaxPooling2D)   (None, 28, 28, 256)       0         \n",
            "_________________________________________________________________\n",
            "block4_conv1 (Conv2D)        (None, 28, 28, 512)       1180160   \n",
            "_________________________________________________________________\n",
            "block4_conv2 (Conv2D)        (None, 28, 28, 512)       2359808   \n",
            "_________________________________________________________________\n",
            "block4_conv3 (Conv2D)        (None, 28, 28, 512)       2359808   \n",
            "_________________________________________________________________\n",
            "block4_pool (MaxPooling2D)   (None, 14, 14, 512)       0         \n",
            "_________________________________________________________________\n",
            "block5_conv1 (Conv2D)        (None, 14, 14, 512)       2359808   \n",
            "_________________________________________________________________\n",
            "block5_conv2 (Conv2D)        (None, 14, 14, 512)       2359808   \n",
            "_________________________________________________________________\n",
            "block5_conv3 (Conv2D)        (None, 14, 14, 512)       2359808   \n",
            "_________________________________________________________________\n",
            "block5_pool (MaxPooling2D)   (None, 7, 7, 512)         0         \n",
            "_________________________________________________________________\n",
            "flatten_1 (Flatten)          (None, 25088)             0         \n",
            "_________________________________________________________________\n",
            "dense_1 (Dense)              (None, 2)                 50178     \n",
            "=================================================================\n",
            "Total params: 14,764,866\n",
            "Trainable params: 50,178\n",
            "Non-trainable params: 14,714,688\n",
            "_________________________________________________________________\n"
          ],
          "name": "stdout"
        }
      ]
    },
    {
      "cell_type": "code",
      "metadata": {
        "id": "vukN7S8SrnuY",
        "colab_type": "code",
        "colab": {}
      },
      "source": [
        "# tell the model what cost and optimization method to use\n",
        "model.compile(\n",
        "  loss='categorical_crossentropy',\n",
        "  optimizer='adam',\n",
        "  metrics=['accuracy']\n",
        ")\n"
      ],
      "execution_count": 0,
      "outputs": []
    },
    {
      "cell_type": "code",
      "metadata": {
        "id": "RYB8D9m6rs_x",
        "colab_type": "code",
        "outputId": "6f5fe503-1707-4274-ab68-b1646589b2c9",
        "colab": {
          "base_uri": "https://localhost:8080/",
          "height": 51
        }
      },
      "source": [
        "from keras.preprocessing.image import ImageDataGenerator\n",
        "\n",
        "train_datagen = ImageDataGenerator(rescale = 1./255,\n",
        "                                   shear_range = 0.2,\n",
        "                                   zoom_range = 0.2,\n",
        "                                   horizontal_flip = True)\n",
        "\n",
        "test_datagen = ImageDataGenerator(rescale = 1./255)\n",
        "\n",
        "training_set = train_datagen.flow_from_directory('/content/drive/My Drive/Dataset_Zahra/train',\n",
        "                                                 target_size = (224, 224),\n",
        "                                                 batch_size = 32,\n",
        "                                                 class_mode = 'categorical')\n",
        "\n",
        "test_set = test_datagen.flow_from_directory('/content/drive/My Drive/Dataset_Zahra/test',\n",
        "                                            target_size = (224, 224),\n",
        "                                            batch_size = 32,\n",
        "                                            class_mode = 'categorical')"
      ],
      "execution_count": 8,
      "outputs": [
        {
          "output_type": "stream",
          "text": [
            "Found 301 images belonging to 2 classes.\n",
            "Found 146 images belonging to 2 classes.\n"
          ],
          "name": "stdout"
        }
      ]
    },
    {
      "cell_type": "code",
      "metadata": {
        "id": "AaCoIDTksR7q",
        "colab_type": "code",
        "colab": {
          "base_uri": "https://localhost:8080/",
          "height": 1000
        },
        "outputId": "169d3eb3-b4e9-4946-a136-421e4d6ac590"
      },
      "source": [
        "# fit the model\n",
        "r = model.fit_generator(\n",
        "  training_set,\n",
        "  validation_data=test_set,\n",
        "  epochs=30,\n",
        "  steps_per_epoch=len(training_set),\n",
        "  validation_steps=len(test_set)\n",
        ")"
      ],
      "execution_count": 9,
      "outputs": [
        {
          "output_type": "stream",
          "text": [
            "Epoch 1/30\n",
            "10/10 [==============================] - 164s 16s/step - loss: 0.3547 - accuracy: 0.8405 - val_loss: 0.0409 - val_accuracy: 0.9589\n",
            "Epoch 2/30\n",
            "10/10 [==============================] - 13s 1s/step - loss: 0.1497 - accuracy: 0.9402 - val_loss: 0.0065 - val_accuracy: 0.9726\n",
            "Epoch 3/30\n",
            "10/10 [==============================] - 15s 1s/step - loss: 0.0995 - accuracy: 0.9701 - val_loss: 0.0263 - val_accuracy: 0.9589\n",
            "Epoch 4/30\n",
            "10/10 [==============================] - 14s 1s/step - loss: 0.0678 - accuracy: 0.9734 - val_loss: 0.1277 - val_accuracy: 0.9795\n",
            "Epoch 5/30\n",
            "10/10 [==============================] - 14s 1s/step - loss: 0.0530 - accuracy: 0.9867 - val_loss: 0.0158 - val_accuracy: 0.9795\n",
            "Epoch 6/30\n",
            "10/10 [==============================] - 14s 1s/step - loss: 0.0359 - accuracy: 0.9934 - val_loss: 0.0484 - val_accuracy: 0.9795\n",
            "Epoch 7/30\n",
            "10/10 [==============================] - 14s 1s/step - loss: 0.0269 - accuracy: 0.9900 - val_loss: 0.0106 - val_accuracy: 0.9795\n",
            "Epoch 8/30\n",
            "10/10 [==============================] - 15s 1s/step - loss: 0.0295 - accuracy: 0.9934 - val_loss: 0.0021 - val_accuracy: 0.9795\n",
            "Epoch 9/30\n",
            "10/10 [==============================] - 14s 1s/step - loss: 0.0292 - accuracy: 0.9867 - val_loss: 0.0063 - val_accuracy: 0.9932\n",
            "Epoch 10/30\n",
            "10/10 [==============================] - 14s 1s/step - loss: 0.0303 - accuracy: 0.9867 - val_loss: 0.0016 - val_accuracy: 0.9795\n",
            "Epoch 11/30\n",
            "10/10 [==============================] - 14s 1s/step - loss: 0.0191 - accuracy: 0.9900 - val_loss: 0.0098 - val_accuracy: 0.9932\n",
            "Epoch 12/30\n",
            "10/10 [==============================] - 15s 1s/step - loss: 0.0134 - accuracy: 1.0000 - val_loss: 0.0027 - val_accuracy: 0.9795\n",
            "Epoch 13/30\n",
            "10/10 [==============================] - 15s 1s/step - loss: 0.0272 - accuracy: 0.9867 - val_loss: 0.0045 - val_accuracy: 0.9932\n",
            "Epoch 14/30\n",
            "10/10 [==============================] - 15s 1s/step - loss: 0.0268 - accuracy: 0.9867 - val_loss: 0.0529 - val_accuracy: 0.9932\n",
            "Epoch 15/30\n",
            "10/10 [==============================] - 14s 1s/step - loss: 0.0186 - accuracy: 0.9834 - val_loss: 0.0539 - val_accuracy: 0.9795\n",
            "Epoch 16/30\n",
            "10/10 [==============================] - 14s 1s/step - loss: 0.0149 - accuracy: 0.9934 - val_loss: 0.0474 - val_accuracy: 0.9932\n",
            "Epoch 17/30\n",
            "10/10 [==============================] - 15s 1s/step - loss: 0.0093 - accuracy: 1.0000 - val_loss: 0.0062 - val_accuracy: 0.9795\n",
            "Epoch 18/30\n",
            "10/10 [==============================] - 15s 1s/step - loss: 0.0212 - accuracy: 0.9867 - val_loss: 6.0835e-04 - val_accuracy: 0.9795\n",
            "Epoch 19/30\n",
            "10/10 [==============================] - 15s 1s/step - loss: 0.0305 - accuracy: 0.9934 - val_loss: 0.0025 - val_accuracy: 0.9932\n",
            "Epoch 20/30\n",
            "10/10 [==============================] - 15s 1s/step - loss: 0.0243 - accuracy: 0.9900 - val_loss: 0.0022 - val_accuracy: 0.9932\n",
            "Epoch 21/30\n",
            "10/10 [==============================] - 14s 1s/step - loss: 0.0296 - accuracy: 0.9934 - val_loss: 0.0132 - val_accuracy: 0.9795\n",
            "Epoch 22/30\n",
            "10/10 [==============================] - 14s 1s/step - loss: 0.0353 - accuracy: 0.9934 - val_loss: 1.7203e-04 - val_accuracy: 0.9795\n",
            "Epoch 23/30\n",
            "10/10 [==============================] - 15s 1s/step - loss: 0.0410 - accuracy: 0.9867 - val_loss: 0.0035 - val_accuracy: 0.9863\n",
            "Epoch 24/30\n",
            "10/10 [==============================] - 15s 1s/step - loss: 0.0231 - accuracy: 0.9934 - val_loss: 0.0026 - val_accuracy: 0.9932\n",
            "Epoch 25/30\n",
            "10/10 [==============================] - 15s 1s/step - loss: 0.0231 - accuracy: 0.9934 - val_loss: 0.0182 - val_accuracy: 0.9932\n",
            "Epoch 26/30\n",
            "10/10 [==============================] - 14s 1s/step - loss: 0.0163 - accuracy: 0.9967 - val_loss: 0.0248 - val_accuracy: 0.9795\n",
            "Epoch 27/30\n",
            "10/10 [==============================] - 14s 1s/step - loss: 0.0238 - accuracy: 0.9867 - val_loss: 0.0692 - val_accuracy: 0.9795\n",
            "Epoch 28/30\n",
            "10/10 [==============================] - 15s 1s/step - loss: 0.0224 - accuracy: 0.9900 - val_loss: 0.0014 - val_accuracy: 0.9932\n",
            "Epoch 29/30\n",
            "10/10 [==============================] - 15s 1s/step - loss: 0.0349 - accuracy: 0.9934 - val_loss: 0.0083 - val_accuracy: 0.9863\n",
            "Epoch 30/30\n",
            "10/10 [==============================] - 15s 1s/step - loss: 0.0211 - accuracy: 0.9900 - val_loss: 0.0342 - val_accuracy: 0.9726\n"
          ],
          "name": "stdout"
        }
      ]
    },
    {
      "cell_type": "code",
      "metadata": {
        "id": "YRS8HMsNsSp2",
        "colab_type": "code",
        "colab": {
          "base_uri": "https://localhost:8080/",
          "height": 530
        },
        "outputId": "43a6fad8-e196-4ee2-e1c6-77cf353f761e"
      },
      "source": [
        "# loss\n",
        "plt.plot(r.history['loss'], label='train loss')\n",
        "plt.plot(r.history['val_loss'], label='val loss')\n",
        "plt.legend()\n",
        "plt.show()\n",
        "plt.savefig('LossVal_loss')\n",
        "\n",
        "# accuracies\n",
        "plt.plot(r.history['accuracy'], label='train acc')\n",
        "plt.plot(r.history['val_accuracy'], label='val acc')\n",
        "plt.legend()\n",
        "plt.show()\n",
        "plt.savefig('AccVal_accuracy')\n",
        "\n",
        "import tensorflow as tf\n",
        "\n",
        "from keras.models import load_model\n",
        "\n",
        "model.save('VGG16.h5')"
      ],
      "execution_count": 10,
      "outputs": [
        {
          "output_type": "display_data",
          "data": {
            "image/png": "[encoded data removed]",
            "text/plain": [
              "<Figure size 432x288 with 1 Axes>"
            ]
          },
          "metadata": {
            "tags": [],
            "needs_background": "light"
          }
        },
        {
          "output_type": "display_data",
          "data": {
            "image/png": "[encoded data removed]",
            "text/plain": [
              "<Figure size 432x288 with 1 Axes>"
            ]
          },
          "metadata": {
            "tags": [],
            "needs_background": "light"
          }
        },
        {
          "output_type": "display_data",
          "data": {
            "text/plain": [
              "<Figure size 432x288 with 0 Axes>"
            ]
          },
          "metadata": {
            "tags": []
          }
        }
      ]
    }
  ]
}